{
 "cells": [
  {
   "attachments": {},
   "cell_type": "markdown",
   "metadata": {},
   "source": [
    "## 思路\n",
    "#### 基本步骤\n",
    "1. 确认爬取目标\n",
    "    1. 爬取网站\n",
    "    2. 爬取字段\n",
    "    3. 需要用到的信息\n",
    "        1. cookie\n",
    "        2. UA\n",
    "    4. 使用方法\n",
    "        1. Scrapy\n",
    "        2. selenium\n",
    "2. 新建项目--》新建爬虫\n",
    "3. 编写ITEM\n",
    "    * 招聘状态\trecruit_status\n",
    "    * 更新时间\trelease_date\n",
    "    * 职位名称\tjob_titel\n",
    "    * 公司名称\tcompany_name\n",
    "    * 公司人数\tcompany_number\n",
    "    * 所属行业\tindustry\n",
    "    * 薪资\t\tsalary_range\n",
    "    * 地点\t\toffice_location\n",
    "    * 工作经验\texperience_limit\n",
    "    * 学历要求\teducation_limit\n",
    "    * 福利\t\tbenefits\n",
    "    * 职位描述\tdescription\n",
    "4. 调式设置文件--》配置setting文件\n",
    "    * USER_AGENT✔\n",
    "    * ROBOTSTXT_OBEY✔\n",
    "    * CONCURRENT_REQUESTS✖\n",
    "    * DOWNLOAD_DELAY✔\n",
    "    * COOKIE_ENABLED✔\n",
    "    * DEFAULT_REQUEST_HEADERS✔\n",
    "    * ITEM_PIPELINES✔\n",
    "    * LOG_LEVEL✔\n",
    "> [配置setting参考文档](https://blog.csdn.net/Hubz131/article/details/89186896?spm=1001.2014.3001.5506)\n",
    "5. 编写爬虫spider文件\n",
    "6. 编写管道--》优化pipelines\n",
    "7. 设置中间件--》优化middlewares\n",
    "9. 测试--》优化整体\n",
    "8. 执行爬虫程序--》编写run文件"
   ]
  },
  {
   "attachments": {},
   "cell_type": "markdown",
   "metadata": {},
   "source": [
    "#### 拓展\n",
    "1. 用js逆向的方式，进入详情页面爬取\n",
    "    * 关键点\n",
    "        1. securityId"
   ]
  }
 ],
 "metadata": {
  "kernelspec": {
   "display_name": "Python 3",
   "language": "python",
   "name": "python3"
  },
  "language_info": {
   "codemirror_mode": {
    "name": "ipython",
    "version": 3
   },
   "file_extension": ".py",
   "mimetype": "text/x-python",
   "name": "python",
   "nbconvert_exporter": "python",
   "pygments_lexer": "ipython3",
   "version": "3.9.9"
  },
  "orig_nbformat": 4
 },
 "nbformat": 4,
 "nbformat_minor": 2
}
