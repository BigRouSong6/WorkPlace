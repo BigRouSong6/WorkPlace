{
 "cells": [
  {
   "cell_type": "code",
   "execution_count": 1,
   "metadata": {},
   "outputs": [],
   "source": [
    "import pandas as pd\n",
    "from selenium import webdriver\n",
    "from lxml import etree\n",
    "from time import sleep\n",
    "import json"
   ]
  },
  {
   "cell_type": "code",
   "execution_count": 2,
   "metadata": {},
   "outputs": [],
   "source": [
    "class Test_1_Spider():\n",
    "    def __init__(self):\n",
    "        #数据初始化\n",
    "        self.basic_url = 'https://spa2.scrape.center/'\n",
    "        #设置不自动关闭\n",
    "        self.options = webdriver.ChromeOptions()\n",
    "        self.options.add_experimental_option(\"detach\", True)\n",
    "        self.driver = webdriver.Chrome(executable_path=\"./chromedriver.exe\",chrome_options=self.options)\n",
    "    \n",
    "    #构造url，翻页\n",
    "    def get_url_list(self):\n",
    "            url_list = [self.basic_url+f\"page/{i}\" for i in range(1,11)]\n",
    "            # url_list = [self.basic_url]\n",
    "            return url_list\n",
    "    #获取响应\n",
    "    def get_response(self,url):\n",
    "        self.driver.get(url)\n",
    "        self.driver.execute_script(\"window.scrollTo(0,document.body.scrollHeight)\")\n",
    "        sleep(5)\n",
    "        html_str = self.driver.page_source\n",
    "        return html_str\n",
    "    #清洗数据\n",
    "    def get_data(self,html_str):\n",
    "        HtmlData = etree.HTML(html_str)\n",
    "        data = pd.DataFrame(columns=[\"电影名称\",\"类型\",\"产地\",\"时长\",\"得分\"])\n",
    "        div_list = HtmlData.xpath(\"//div[@class='el-card__body']\")\n",
    "        for div in div_list:\n",
    "            info_dicts = {}\n",
    "            info_dicts[\"电影名称\"] = div.xpath(\".//a[@class='name']/h2//text()\")[0]\n",
    "            info_dicts[\"类型\"] = \"-\".join(div.xpath(\".//div[@class='categories']//span/text()\"))\n",
    "            info_dicts[\"产地\"] = div.xpath(\".//div[@class='m-v-sm info'][1]/span[1]/text()\")[0]\n",
    "            info_dicts[\"时长\"] = div.xpath(\".//div[@class='m-v-sm info'][1]/span[3]/text()\")[0]\n",
    "            info_dicts[\"得分\"] = div.xpath(\".//p[@class='score m-t-md m-b-n-sm']/text()\")[0].replace(\"\\n                \",\"\")\n",
    "            info_df = pd.DataFrame(info_dicts,index=[0])\n",
    "            data = pd.concat([data,info_df])\n",
    "\n",
    "        return data\n",
    "\n",
    "\n",
    "\n",
    "    def run(self):\n",
    "         #运行主程序\n",
    "         #1、获取url列表\n",
    "        need_data = pd.DataFrame(columns=[\"电影名称\",\"类型\",\"产地\",\"时长\",\"得分\"])\n",
    "        url_list = self.get_url_list()\n",
    "        for url in url_list:\n",
    "            #2、发送请求，获取响应\n",
    "            html_str = self.get_response(url)\n",
    "            #3、清洗数据\n",
    "            data = self.get_data(html_str)\n",
    "            #保存数据\n",
    "            need_data = pd.concat([need_data,data])\n",
    "            sleep(2)\n",
    "        need_data.to_excel(\".\\spider数据.xlsx\",index=False)\n",
    "        self.driver.quit()\n",
    "\n",
    "        "
   ]
  },
  {
   "cell_type": "code",
   "execution_count": 3,
   "metadata": {},
   "outputs": [
    {
     "name": "stderr",
     "output_type": "stream",
     "text": [
      "C:\\Users\\yuhuyi\\AppData\\Local\\Temp\\ipykernel_28148\\2385686369.py:8: DeprecationWarning: executable_path has been deprecated, please pass in a Service object\n",
      "  self.driver = webdriver.Chrome(executable_path=\"./chromedriver.exe\",chrome_options=self.options)\n",
      "C:\\Users\\yuhuyi\\AppData\\Local\\Temp\\ipykernel_28148\\2385686369.py:8: DeprecationWarning: use options instead of chrome_options\n",
      "  self.driver = webdriver.Chrome(executable_path=\"./chromedriver.exe\",chrome_options=self.options)\n"
     ]
    }
   ],
   "source": [
    "if __name__ == \"__main__\":\n",
    "    Spider = Test_1_Spider()\n",
    "    Spider.run()"
   ]
  }
 ],
 "metadata": {
  "kernelspec": {
   "display_name": "Python 3",
   "language": "python",
   "name": "python3"
  },
  "language_info": {
   "codemirror_mode": {
    "name": "ipython",
    "version": 3
   },
   "file_extension": ".py",
   "mimetype": "text/x-python",
   "name": "python",
   "nbconvert_exporter": "python",
   "pygments_lexer": "ipython3",
   "version": "3.11.3"
  }
 },
 "nbformat": 4,
 "nbformat_minor": 2
}
