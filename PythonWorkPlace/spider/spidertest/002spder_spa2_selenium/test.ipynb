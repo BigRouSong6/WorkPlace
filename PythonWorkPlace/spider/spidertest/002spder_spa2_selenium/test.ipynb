{
 "cells": [
  {
   "cell_type": "code",
   "execution_count": 1,
   "metadata": {},
   "outputs": [],
   "source": [
    "import pandas as pd\n",
    "from selenium import webdriver\n",
    "from lxml import etree\n",
    "from time import sleep\n",
    "import json\n",
    "from selenium.webdriver.common.by import By\n",
    "from selenium.webdriver.common.action_chains import ActionChains\n"
   ]
  },
  {
   "cell_type": "code",
   "execution_count": 2,
   "metadata": {},
   "outputs": [
    {
     "name": "stderr",
     "output_type": "stream",
     "text": [
      "C:\\Users\\yuhuyi\\AppData\\Local\\Temp\\ipykernel_18888\\4222959332.py:1: DeprecationWarning: executable_path has been deprecated, please pass in a Service object\n",
      "  driver = webdriver.Chrome(executable_path=\"./chromedriver.exe\")\n"
     ]
    }
   ],
   "source": [
    "driver = webdriver.Chrome(executable_path=\"./chromedriver.exe\")"
   ]
  },
  {
   "cell_type": "code",
   "execution_count": 3,
   "metadata": {},
   "outputs": [],
   "source": [
    "driver.get(\"http://backend.jiabeisw.cn/#/login?redirect=%2Findex\")\n",
    "sleep(2)"
   ]
  },
  {
   "cell_type": "code",
   "execution_count": 4,
   "metadata": {},
   "outputs": [],
   "source": [
    "#登录\n",
    "driver.find_element(by=\"name\",value=\"loginName\").send_keys(\"18123785782\")\n",
    "driver.find_element(by=\"name\",value=\"password\").send_keys(\"111111\")\n",
    "driver.find_element(By.TAG_NAME,\"button\").click()\n",
    "sleep(2)\n",
    "driver.find_element(By.XPATH,'//*[@id=\"app\"]/div/div[2]/div[2]/div[2]/div/div[1]/div/div[2]/div/div/button[1]/span/i').click()"
   ]
  },
  {
   "cell_type": "code",
   "execution_count": 5,
   "metadata": {},
   "outputs": [],
   "source": [
    "# 依次点击话费业务——>订单管理——>下游充值订单——>人工补单\n",
    "driver.find_element(By.XPATH,'//*[@id=\"app\"]/div/div[2]/div[1]/div[2]/div/div/ul/li/i').click()\n",
    "sleep(1)\n",
    "driver.find_element(By.XPATH,'//*[@id=\"app\"]/div/div[2]/div[2]/div[1]/div/ul/li[4]/div/span').click()\n",
    "sleep(1)\n",
    "driver.find_element(By.XPATH,'//*[@id=\"app\"]/div/div[2]/div[2]/div[1]/div/ul/li[4]/ul/li[1]/span').click()\n",
    "sleep(1)\n",
    "driver.find_element(By.XPATH,'//*[@id=\"app\"]/div/div[2]/div[2]/div[2]/div/div[2]/div/div[1]/div/div/div[2]/div/button[4]/span').click()"
   ]
  },
  {
   "cell_type": "code",
   "execution_count": 6,
   "metadata": {},
   "outputs": [],
   "source": [
    "# 填入补单信息\n",
    "# 代理商-输入\n",
    "driver.find_element(By.XPATH,'//*[@id=\"app\"]/div/div[2]/div[2]/div[2]/div/div[2]/div/div[1]/div/div/div[8]/div/div[2]/form/div/div/div[1]/div/div/div/input').send_keys(\"测试\")\n",
    "sleep(1)\n",
    "driver.find_element(By.XPATH,'/html/body/div[5]/div[1]/div[1]/ul/li[2]/span[1]').click()\n",
    "sleep(3)\n",
    "# 交易密码-输入\n",
    "driver.find_element(By.XPATH,'//*[@id=\"app\"]/div/div[2]/div[2]/div[2]/div/div[2]/div/div[1]/div/div/div[8]/div/div[2]/form/div/div/div[2]/div/div/input').send_keys(\"123456\")\n",
    "# 业务类型-点击-选择\n",
    "# driver.find_element(By.XPATH,'//*[@id=\"app\"]/div/div[2]/div[2]/div[2]/div/div[2]/div/div[1]/div/div/div[8]/div/div[2]/form/div/div/div[3]/div/div/div/input').click()\n",
    "# driver.find_element(By.XPATH,'/html/body/div[12]/div[1]/div[1]/ul/li[1]/span[1]').click()\n",
    "sleep(3)\n",
    "# 运营商-点击-选择\n",
    "driver.find_element(By.XPATH,'//*[@id=\"app\"]/div/div[2]/div[2]/div[2]/div/div[2]/div/div[1]/div/div/div[8]/div/div[2]/form/div/div/div[4]/div/div/div/input').click()\n",
    "sleep(3)\n",
    "driver.find_element(By.XPATH,'/html/body/div[6]/div[1]/div[1]/ul/li[1]/span[1]').click()\n",
    "sleep(2)\n",
    "#充值号码-输入\n",
    "driver.find_element(By.XPATH,'//*[@id=\"app\"]/div/div[2]/div[2]/div[2]/div/div[2]/div/div[1]/div/div/div[8]/div/div[2]/form/div/div/div[5]/div/div/input').send_keys(\"18123785782\")\n",
    "sleep(2)\n",
    "# 充值金额-点击-选择\n",
    "driver.find_element(By.XPATH,'//*[@id=\"app\"]/div/div[2]/div[2]/div[2]/div/div[2]/div/div[1]/div/div/div[8]/div/div[2]/form/div/div/div[6]/div/div/div/input').click()\n",
    "sleep(2)\n",
    "driver.find_element(By.XPATH,'/html/body/div[7]/div[1]/div[1]/ul/li[1]/span[1]').click()\n",
    "sleep(2)\n",
    "\n"
   ]
  },
  {
   "cell_type": "code",
   "execution_count": 7,
   "metadata": {},
   "outputs": [],
   "source": [
    "#提交\n",
    "driver.find_element(By.XPATH,'//*[@id=\"app\"]/div/div[2]/div[2]/div[2]/div/div[2]/div/div[1]/div/div/div[8]/div/div[3]/div/button[1]/span').click()\n",
    "sleep(2)\n",
    "#确认\n",
    "driver.find_element(By.XPATH,'/html/body/div[7]/div/div[3]/button[2]/span').click()\n",
    "sleep(2)\n"
   ]
  },
  {
   "cell_type": "code",
   "execution_count": 8,
   "metadata": {},
   "outputs": [],
   "source": [
    "#输入号码\n",
    "driver.find_element(By.XPATH,'//*[@id=\"app\"]/div/div[2]/div[2]/div[2]/div/div[2]/div/div[1]/div/div/div[1]/form/div[1]/div[2]/div/div/div/input').send_keys(\"18123785782\")\n",
    "sleep(2)\n",
    "#搜索\n",
    "driver.find_element(By.XPATH,'//*[@id=\"app\"]/div/div[2]/div[2]/div[2]/div/div[2]/div/div[1]/div/div/div[1]/form/div[4]/div[5]/button/span').click()\n",
    "sleep(2)\n"
   ]
  },
  {
   "cell_type": "code",
   "execution_count": 9,
   "metadata": {},
   "outputs": [],
   "source": [
    "#获取状态\n",
    "a = driver.find_element(By.XPATH,'//*[@id=\"app\"]/div/div[2]/div[2]/div[2]/div/div[2]/div/div[1]/div/div/div[3]/div/div[3]/table/tbody/tr/td[10]/div/span').text"
   ]
  },
  {
   "cell_type": "code",
   "execution_count": 10,
   "metadata": {},
   "outputs": [
    {
     "name": "stdout",
     "output_type": "stream",
     "text": [
      "成功\n"
     ]
    }
   ],
   "source": [
    "print(a)"
   ]
  },
  {
   "cell_type": "code",
   "execution_count": 11,
   "metadata": {},
   "outputs": [],
   "source": [
    "driver.close()"
   ]
  }
 ],
 "metadata": {
  "kernelspec": {
   "display_name": "Python 3",
   "language": "python",
   "name": "python3"
  },
  "language_info": {
   "codemirror_mode": {
    "name": "ipython",
    "version": 3
   },
   "file_extension": ".py",
   "mimetype": "text/x-python",
   "name": "python",
   "nbconvert_exporter": "python",
   "pygments_lexer": "ipython3",
   "version": "3.11.3"
  }
 },
 "nbformat": 4,
 "nbformat_minor": 2
}
