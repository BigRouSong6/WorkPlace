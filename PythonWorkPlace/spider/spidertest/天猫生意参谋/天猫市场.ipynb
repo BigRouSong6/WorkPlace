{
 "cells": [
  {
   "cell_type": "code",
   "execution_count": 1,
   "id": "eafc8ad8",
   "metadata": {},
   "outputs": [],
   "source": [
    "from selenium.webdriver.chrome.options import Options\n",
    "from selenium import webdriver\n",
    "from time import sleep\n",
    "from lxml import etree\n",
    "import pandas as pd\n",
    "from selenium.webdriver.common.by import By  \n",
    "import  requests\n"
   ]
  },
  {
   "cell_type": "code",
   "execution_count": 3,
   "id": "1113b740",
   "metadata": {},
   "outputs": [],
   "source": [
    "chrome_options = Options()"
   ]
  },
  {
   "cell_type": "code",
   "execution_count": 5,
   "id": "b4a0240f",
   "metadata": {},
   "outputs": [
    {
     "name": "stderr",
     "output_type": "stream",
     "text": [
      "C:\\Users\\yuhuyi\\AppData\\Local\\Temp\\ipykernel_7532\\2888696364.py:1: DeprecationWarning: executable_path has been deprecated, please pass in a Service object\n",
      "  webdriver.Chrome(executable_path='.\\..\\..\\\\path\\\\chromedriver.exe',options=chrome_options)\n"
     ]
    },
    {
     "data": {
      "text/plain": [
       "<selenium.webdriver.chrome.webdriver.WebDriver (session=\"d75088408dfeb554bf3d92cbfbaa6f4a\")>"
      ]
     },
     "execution_count": 5,
     "metadata": {},
     "output_type": "execute_result"
    }
   ],
   "source": [
    "webdriver.Chrome(executable_path='.\\..\\..\\\\path\\\\chromedriver.exe',options=chrome_options)"
   ]
  },
  {
   "cell_type": "code",
   "execution_count": null,
   "id": "b7101786",
   "metadata": {},
   "outputs": [],
   "source": []
  }
 ],
 "metadata": {
  "kernelspec": {
   "display_name": "Python 3",
   "language": "python",
   "name": "python3"
  },
  "language_info": {
   "codemirror_mode": {
    "name": "ipython",
    "version": 3
   },
   "file_extension": ".py",
   "mimetype": "text/x-python",
   "name": "python",
   "nbconvert_exporter": "python",
   "pygments_lexer": "ipython3",
   "version": "3.11.3"
  }
 },
 "nbformat": 4,
 "nbformat_minor": 5
}
