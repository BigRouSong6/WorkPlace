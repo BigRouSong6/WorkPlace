{
 "cells": [
  {
   "cell_type": "code",
   "execution_count": 1,
   "id": "eafc8ad8",
   "metadata": {},
   "outputs": [],
   "source": [
    "from selenium.webdriver.chrome.options import Options\n",
    "from selenium import webdriver\n",
    "from time import sleep\n",
    "from lxml import etree\n",
    "import pandas as pd\n",
    "from selenium.webdriver.common.by import By  \n",
    "import  requests\n"
   ]
  },
  {
   "cell_type": "code",
   "execution_count": null,
   "id": "c3ddc524",
   "metadata": {},
   "outputs": [],
   "source": [
    "# cd C:\\Users\\yuhuyi\\AppData\\Local\\Google\\Chrome\\Application\\\n",
    "# chrome.exe --remote-debugging-port=9222 --user-data-dir=\"C:\\selenium\\ChromeProfile\"\n",
    "# https://sycm.taobao.com/mc/free/market_rank\n",
    "\n",
    "chrome_options = Options()\n",
    "chrome_options.add_experimental_option(\"debuggerAddress\", \"127.0.0.1:9222\")\n",
    "bro = webdriver.Chrome(options=chrome_options)\n",
    "window_handles = bro.window_handles\n",
    "bro.switch_to.window(window_handles[0])\n",
    "bro.execute_script(\"window.scrollTo(0,document.body.scrollHeight)\")\n",
    "bro.maximize_window()"
   ]
  },
  {
   "cell_type": "code",
   "execution_count": null,
   "id": "4a567122",
   "metadata": {},
   "outputs": [],
   "source": [
    "A = bro.find_element(By.XPATH,'//button[@class=\"ecom-pagination-item-link\"]')"
   ]
  },
  {
   "cell_type": "code",
   "execution_count": null,
   "id": "f10274a3",
   "metadata": {},
   "outputs": [
    {
     "ename": "NoSuchElementException",
     "evalue": "Message: no such element: Unable to locate element: {\"method\":\"xpath\",\"selector\":\"//body/script\"}\n  (Session info: chrome=99.0.4844.51)\nStacktrace:\nBacktrace:\n\tOrdinal0 [0x010D9943+2595139]\n\tOrdinal0 [0x0106C9F1+2148849]\n\tOrdinal0 [0x00F64528+1066280]\n\tOrdinal0 [0x00F90FD4+1249236]\n\tOrdinal0 [0x00F911CB+1249739]\n\tOrdinal0 [0x00FBD812+1431570]\n\tOrdinal0 [0x00FABA34+1358388]\n\tOrdinal0 [0x00FBBAF2+1424114]\n\tOrdinal0 [0x00FAB806+1357830]\n\tOrdinal0 [0x00F86086+1204358]\n\tOrdinal0 [0x00F86F96+1208214]\n\tGetHandleVerifier [0x0127B232+1658114]\n\tGetHandleVerifier [0x0133312C+2411516]\n\tGetHandleVerifier [0x0116F261+560433]\n\tGetHandleVerifier [0x0116E366+556598]\n\tOrdinal0 [0x0107286B+2173035]\n\tOrdinal0 [0x010775F8+2192888]\n\tOrdinal0 [0x010776E5+2193125]\n\tOrdinal0 [0x010811FC+2232828]\n\tBaseThreadInitThunk [0x7790FCC9+25]\n\tRtlGetAppContainerNamedObjectPath [0x77A6809E+286]\n\tRtlGetAppContainerNamedObjectPath [0x77A6806E+238]\n",
     "output_type": "error",
     "traceback": [
      "\u001b[1;31m---------------------------------------------------------------------------\u001b[0m",
      "\u001b[1;31mNoSuchElementException\u001b[0m                    Traceback (most recent call last)",
      "Cell \u001b[1;32mIn[15], line 1\u001b[0m\n\u001b[1;32m----> 1\u001b[0m D \u001b[38;5;241m=\u001b[39m \u001b[43mbro\u001b[49m\u001b[38;5;241;43m.\u001b[39;49m\u001b[43mfind_element\u001b[49m\u001b[43m(\u001b[49m\u001b[43mBy\u001b[49m\u001b[38;5;241;43m.\u001b[39;49m\u001b[43mXPATH\u001b[49m\u001b[43m,\u001b[49m\u001b[38;5;124;43m'\u001b[39;49m\u001b[38;5;124;43m//body/script\u001b[39;49m\u001b[38;5;124;43m'\u001b[39;49m\u001b[43m)\u001b[49m\n",
      "File \u001b[1;32mc:\\Users\\yuhuyi\\AppData\\Local\\Programs\\Python\\Python311\\Lib\\site-packages\\selenium\\webdriver\\remote\\webdriver.py:831\u001b[0m, in \u001b[0;36mWebDriver.find_element\u001b[1;34m(self, by, value)\u001b[0m\n\u001b[0;32m    828\u001b[0m     by \u001b[38;5;241m=\u001b[39m By\u001b[38;5;241m.\u001b[39mCSS_SELECTOR\n\u001b[0;32m    829\u001b[0m     value \u001b[38;5;241m=\u001b[39m \u001b[38;5;124mf\u001b[39m\u001b[38;5;124m'\u001b[39m\u001b[38;5;124m[name=\u001b[39m\u001b[38;5;124m\"\u001b[39m\u001b[38;5;132;01m{\u001b[39;00mvalue\u001b[38;5;132;01m}\u001b[39;00m\u001b[38;5;124m\"\u001b[39m\u001b[38;5;124m]\u001b[39m\u001b[38;5;124m'\u001b[39m\n\u001b[1;32m--> 831\u001b[0m \u001b[38;5;28;01mreturn\u001b[39;00m \u001b[38;5;28;43mself\u001b[39;49m\u001b[38;5;241;43m.\u001b[39;49m\u001b[43mexecute\u001b[49m\u001b[43m(\u001b[49m\u001b[43mCommand\u001b[49m\u001b[38;5;241;43m.\u001b[39;49m\u001b[43mFIND_ELEMENT\u001b[49m\u001b[43m,\u001b[49m\u001b[43m \u001b[49m\u001b[43m{\u001b[49m\u001b[38;5;124;43m\"\u001b[39;49m\u001b[38;5;124;43musing\u001b[39;49m\u001b[38;5;124;43m\"\u001b[39;49m\u001b[43m:\u001b[49m\u001b[43m \u001b[49m\u001b[43mby\u001b[49m\u001b[43m,\u001b[49m\u001b[43m \u001b[49m\u001b[38;5;124;43m\"\u001b[39;49m\u001b[38;5;124;43mvalue\u001b[39;49m\u001b[38;5;124;43m\"\u001b[39;49m\u001b[43m:\u001b[49m\u001b[43m \u001b[49m\u001b[43mvalue\u001b[49m\u001b[43m}\u001b[49m\u001b[43m)\u001b[49m[\u001b[38;5;124m\"\u001b[39m\u001b[38;5;124mvalue\u001b[39m\u001b[38;5;124m\"\u001b[39m]\n",
      "File \u001b[1;32mc:\\Users\\yuhuyi\\AppData\\Local\\Programs\\Python\\Python311\\Lib\\site-packages\\selenium\\webdriver\\remote\\webdriver.py:440\u001b[0m, in \u001b[0;36mWebDriver.execute\u001b[1;34m(self, driver_command, params)\u001b[0m\n\u001b[0;32m    438\u001b[0m response \u001b[38;5;241m=\u001b[39m \u001b[38;5;28mself\u001b[39m\u001b[38;5;241m.\u001b[39mcommand_executor\u001b[38;5;241m.\u001b[39mexecute(driver_command, params)\n\u001b[0;32m    439\u001b[0m \u001b[38;5;28;01mif\u001b[39;00m response:\n\u001b[1;32m--> 440\u001b[0m     \u001b[38;5;28;43mself\u001b[39;49m\u001b[38;5;241;43m.\u001b[39;49m\u001b[43merror_handler\u001b[49m\u001b[38;5;241;43m.\u001b[39;49m\u001b[43mcheck_response\u001b[49m\u001b[43m(\u001b[49m\u001b[43mresponse\u001b[49m\u001b[43m)\u001b[49m\n\u001b[0;32m    441\u001b[0m     response[\u001b[38;5;124m\"\u001b[39m\u001b[38;5;124mvalue\u001b[39m\u001b[38;5;124m\"\u001b[39m] \u001b[38;5;241m=\u001b[39m \u001b[38;5;28mself\u001b[39m\u001b[38;5;241m.\u001b[39m_unwrap_value(response\u001b[38;5;241m.\u001b[39mget(\u001b[38;5;124m\"\u001b[39m\u001b[38;5;124mvalue\u001b[39m\u001b[38;5;124m\"\u001b[39m, \u001b[38;5;28;01mNone\u001b[39;00m))\n\u001b[0;32m    442\u001b[0m     \u001b[38;5;28;01mreturn\u001b[39;00m response\n",
      "File \u001b[1;32mc:\\Users\\yuhuyi\\AppData\\Local\\Programs\\Python\\Python311\\Lib\\site-packages\\selenium\\webdriver\\remote\\errorhandler.py:245\u001b[0m, in \u001b[0;36mErrorHandler.check_response\u001b[1;34m(self, response)\u001b[0m\n\u001b[0;32m    243\u001b[0m         alert_text \u001b[38;5;241m=\u001b[39m value[\u001b[38;5;124m\"\u001b[39m\u001b[38;5;124malert\u001b[39m\u001b[38;5;124m\"\u001b[39m]\u001b[38;5;241m.\u001b[39mget(\u001b[38;5;124m\"\u001b[39m\u001b[38;5;124mtext\u001b[39m\u001b[38;5;124m\"\u001b[39m)\n\u001b[0;32m    244\u001b[0m     \u001b[38;5;28;01mraise\u001b[39;00m exception_class(message, screen, stacktrace, alert_text)  \u001b[38;5;66;03m# type: ignore[call-arg]  # mypy is not smart enough here\u001b[39;00m\n\u001b[1;32m--> 245\u001b[0m \u001b[38;5;28;01mraise\u001b[39;00m exception_class(message, screen, stacktrace)\n",
      "\u001b[1;31mNoSuchElementException\u001b[0m: Message: no such element: Unable to locate element: {\"method\":\"xpath\",\"selector\":\"//body/script\"}\n  (Session info: chrome=99.0.4844.51)\nStacktrace:\nBacktrace:\n\tOrdinal0 [0x010D9943+2595139]\n\tOrdinal0 [0x0106C9F1+2148849]\n\tOrdinal0 [0x00F64528+1066280]\n\tOrdinal0 [0x00F90FD4+1249236]\n\tOrdinal0 [0x00F911CB+1249739]\n\tOrdinal0 [0x00FBD812+1431570]\n\tOrdinal0 [0x00FABA34+1358388]\n\tOrdinal0 [0x00FBBAF2+1424114]\n\tOrdinal0 [0x00FAB806+1357830]\n\tOrdinal0 [0x00F86086+1204358]\n\tOrdinal0 [0x00F86F96+1208214]\n\tGetHandleVerifier [0x0127B232+1658114]\n\tGetHandleVerifier [0x0133312C+2411516]\n\tGetHandleVerifier [0x0116F261+560433]\n\tGetHandleVerifier [0x0116E366+556598]\n\tOrdinal0 [0x0107286B+2173035]\n\tOrdinal0 [0x010775F8+2192888]\n\tOrdinal0 [0x010776E5+2193125]\n\tOrdinal0 [0x010811FC+2232828]\n\tBaseThreadInitThunk [0x7790FCC9+25]\n\tRtlGetAppContainerNamedObjectPath [0x77A6809E+286]\n\tRtlGetAppContainerNamedObjectPath [0x77A6806E+238]\n"
     ]
    }
   ],
   "source": []
  },
  {
   "cell_type": "code",
   "execution_count": null,
   "id": "80561282",
   "metadata": {},
   "outputs": [],
   "source": []
  },
  {
   "cell_type": "code",
   "execution_count": 9,
   "id": "276a9516",
   "metadata": {},
   "outputs": [],
   "source": [
    "html_str = bro.page_source\n",
    "HtmlData = etree.HTML(html_str)"
   ]
  },
  {
   "cell_type": "code",
   "execution_count": null,
   "id": "da692a9e",
   "metadata": {},
   "outputs": [],
   "source": []
  },
  {
   "cell_type": "code",
   "execution_count": null,
   "id": "11c210e1",
   "metadata": {},
   "outputs": [],
   "source": [
    "def get_data(html_str):\n",
    "    data = pd.DataFrame(columns=[\"店铺名称\",\"成交金额\",\"点击次数\",\"商品名称\",\"价格区间\",\"排名\"])\n",
    "    HtmlData = etree.HTML(html_str)\n",
    "    tr_list = HtmlData.xpath(\"//tr[@class='ecom-table-row ecom-table-row-level-0']\")\n",
    "    for tr in tr_list:  \n",
    "        info_dicts = {}\n",
    "        info_dicts[\"店铺名称\"] = tr.xpath(\".//div[@class='name-qfS2bZ']/text()\")[0]\n",
    "        info_dicts[\"成交金额\"] = tr.xpath(\".//div[@class='numText-qvEDO1']/text()\")[0]\n",
    "        info_dicts[\"点击次数\"] = tr.xpath(\".//div[@class='numText-qvEDO1']/text()\")[1]\n",
    "        info_dicts[\"商品名称\"] = tr.xpath(\".//div[@class='name-olPpkd']/text()\")[0]\n",
    "        info_dicts[\"排名\"] = tr.xpath(\".//div[@class='rank-uKOWOn']/text()\")[0]\n",
    "        info_dicts[\"价格区间\"] = tr.xpath(\".//div[@class='price-T7iKi4']/span/text()\")[0]\n",
    "        info_df = pd.DataFrame(info_dicts,index=[0])\n",
    "        data = pd.concat([data,info_df])\n",
    "    return data"
   ]
  },
  {
   "cell_type": "code",
   "execution_count": null,
   "id": "7cd8b210",
   "metadata": {},
   "outputs": [],
   "source": []
  },
  {
   "cell_type": "code",
   "execution_count": null,
   "id": "34f1ce8b",
   "metadata": {},
   "outputs": [],
   "source": [
    "need_data = pd.DataFrame(columns=[\"店铺名称\",\"成交金额\",\"点击次数\",\"商品名称\",\"价格区间\",\"排名\"])\n",
    "i = 1\n",
    "while i < 21:\n",
    "    print(i)\n",
    "    page = bro.page_source\n",
    "    sleep(1)\n",
    "    datasss=get_data(page)\n",
    "    sleep(1)\n",
    "    need_data = pd.concat([need_data,datasss])\n",
    "    bro.execute_script(\"arguments[0].click()\", A)\n",
    "    i=i+1\n",
    "    \n",
    "else:\n",
    "    # page = bro.page_source\n",
    "    # sleep(1)\n",
    "    # datasss=get_data(page)\n",
    "    # sleep(1)\n",
    "    # need_data = pd.concat([need_data,datasss])\n",
    "    pass"
   ]
  },
  {
   "cell_type": "code",
   "execution_count": null,
   "id": "4d69cfe4",
   "metadata": {},
   "outputs": [],
   "source": [
    "pd.set_option('display.max_rows', None)\n",
    "need_data.drop_duplicates(inplace=True)\n",
    "need_data"
   ]
  },
  {
   "cell_type": "code",
   "execution_count": null,
   "id": "4336e37c",
   "metadata": {},
   "outputs": [],
   "source": [
    "bro.page_source"
   ]
  },
  {
   "cell_type": "code",
   "execution_count": null,
   "id": "413c4416",
   "metadata": {},
   "outputs": [],
   "source": [
    "# C = bro.find_element(By.XPATH,'//span[@class=\"anticon anticon-left\"]')\n",
    "# bro.execute_script(\"arguments[0].click()\", C)"
   ]
  },
  {
   "cell_type": "code",
   "execution_count": null,
   "id": "a75ad471",
   "metadata": {},
   "outputs": [],
   "source": [
    "need_data.drop_duplicates(inplace=True)"
   ]
  },
  {
   "cell_type": "code",
   "execution_count": null,
   "id": "626dd2e6",
   "metadata": {},
   "outputs": [],
   "source": [
    "need_data.to_excel(\".\\spider数据.xlsx\",index=False)"
   ]
  },
  {
   "cell_type": "code",
   "execution_count": null,
   "id": "b6e8e979",
   "metadata": {},
   "outputs": [],
   "source": []
  },
  {
   "cell_type": "code",
   "execution_count": null,
   "id": "8aee1beb",
   "metadata": {},
   "outputs": [],
   "source": []
  }
 ],
 "metadata": {
  "kernelspec": {
   "display_name": "Python 3",
   "language": "python",
   "name": "python3"
  },
  "language_info": {
   "codemirror_mode": {
    "name": "ipython",
    "version": 3
   },
   "file_extension": ".py",
   "mimetype": "text/x-python",
   "name": "python",
   "nbconvert_exporter": "python",
   "pygments_lexer": "ipython3",
   "version": "3.11.3"
  }
 },
 "nbformat": 4,
 "nbformat_minor": 5
}
