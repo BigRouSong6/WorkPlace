{
 "cells": [
  {
   "cell_type": "code",
   "execution_count": 1,
   "metadata": {},
   "outputs": [],
   "source": [
    "import pandas as pd\n",
    "import requests\n",
    "from lxml import etree\n",
    "from time import sleep\n",
    "import json"
   ]
  },
  {
   "cell_type": "code",
   "execution_count": 4,
   "metadata": {},
   "outputs": [],
   "source": [
    "class Test_1_Spider():\n",
    "    def __init__(self):\n",
    "        #数据初始化\n",
    "        self.basic_url = 'https://spa1.scrape.center/api/movie?limit=10&offset='\n",
    "        self.headers = {\n",
    "            \"user-agent\":\"Mozilla/5.0 (Windows NT 10.0; Win64; x64) AppleWebKit/537.36 (KHTML, like Gecko) Chrome/131.0.0.0 Safari/537.36\",\n",
    "            \"accept-encoding\":\"gzip, deflate, br, zstd\",\n",
    "            \"accept\":\"text/html,application/xhtml+xml,application/xml;q=0.9,image/avif,image/webp,image/apng,*/*;q=0.8,application/signed-exchange;v=b3;q=0.7\",\n",
    "            \"accept-language\":\"zh-CN,zh;q=0.9,en;q=0.8,en-GB;q=0.7,en-US;q=0.6\",\n",
    "            \"connection\":\"keep-alive\",\n",
    "            \"host\":\"spa1.scrape.center\",\n",
    "            \"x-requested-with\":\"XMLHttpRequest\"\n",
    "        }\n",
    "    \n",
    "    #构造url，翻页\n",
    "    def get_url_list(self):\n",
    "            url_list = [self.basic_url+f\"{i}\" for i in range(0,100,10)]\n",
    "            return url_list\n",
    "    #获取响应\n",
    "    def get_response(self,url):\n",
    "        response_json = requests.get(url,headers=self.headers).json()\n",
    "        return response_json\n",
    "    #清洗数据\n",
    "    def get_data(self,response_json):\n",
    "        data = pd.DataFrame(columns=[\"电影名称\",\"类型\",\"发布时间\",\"产地\",\"时长\",\"得分\"])\n",
    "        data_list = response_json.get(\"results\")\n",
    "        for d in data_list:\n",
    "            info_dicts = {}\n",
    "            info_dicts[\"电影名称\"] = d.get(\"name\")\n",
    "            info_dicts[\"类型\"] = \"-\".join(d.get(\"categories\"))\n",
    "            info_dicts[\"发布时间\"] = d.get(\"published_at\")\n",
    "            info_dicts[\"产地\"] = \"-\".join(d.get(\"regions\"))\n",
    "            info_dicts[\"时长\"] = d.get(\"minute\")\n",
    "            info_dicts[\"得分\"] = d.get(\"score\")\n",
    "            info_df = pd.DataFrame(info_dicts,index=[0])\n",
    "            data = pd.concat([data,info_df])\n",
    "        return data\n",
    "\n",
    "\n",
    "\n",
    "    def run(self):\n",
    "         #运行主程序\n",
    "         #1、获取url列表\n",
    "        need_data = pd.DataFrame(columns=[\"电影名称\",\"类型\",\"发布时间\",\"产地\",\"时长\",\"得分\"])\n",
    "        url_list = self.get_url_list()\n",
    "        for url in url_list:\n",
    "            #2、发送请求，获取响应\n",
    "            html_str = self.get_response(url)\n",
    "            #3、清洗数据\n",
    "            data = self.get_data(html_str)\n",
    "            #保存数据\n",
    "            need_data = pd.concat([need_data,data])\n",
    "            sleep(2)\n",
    "        need_data.to_excel(\".\\spider数据.xlsx\",index=False)\n"
   ]
  },
  {
   "cell_type": "code",
   "execution_count": 5,
   "metadata": {},
   "outputs": [],
   "source": [
    "if __name__ == \"__main__\":\n",
    "    Spider = Test_1_Spider()\n",
    "    Spider.run()"
   ]
  }
 ],
 "metadata": {
  "kernelspec": {
   "display_name": "Python 3",
   "language": "python",
   "name": "python3"
  },
  "language_info": {
   "codemirror_mode": {
    "name": "ipython",
    "version": 3
   },
   "file_extension": ".py",
   "mimetype": "text/x-python",
   "name": "python",
   "nbconvert_exporter": "python",
   "pygments_lexer": "ipython3",
   "version": "3.9.9"
  }
 },
 "nbformat": 4,
 "nbformat_minor": 2
}
