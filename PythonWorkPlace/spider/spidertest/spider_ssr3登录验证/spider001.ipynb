{
 "cells": [
  {
   "cell_type": "code",
   "execution_count": 14,
   "metadata": {},
   "outputs": [],
   "source": [
    "# 引入包\n",
    "import requests\n",
    "import pandas as pd\n",
    "from lxml import etree\n",
    "from time import sleep\n",
    "# ,auth=(\"admin\",\"admin\")"
   ]
  },
  {
   "cell_type": "code",
   "execution_count": 15,
   "metadata": {},
   "outputs": [],
   "source": [
    "class Test_1_Spider():\n",
    "    def __init__(self):\n",
    "        #数据初始化\n",
    "        self.basic_url = 'https://ssr2.scrape.center/'\n",
    "        self.headers = {\n",
    "            \"user-agent\":\"Mozilla/5.0 (Windows NT 10.0; Win64; x64) AppleWebKit/537.36 (KHTML, like Gecko) Chrome/131.0.0.0 Safari/537.36 Edg/131.0.0.0\",\n",
    "            \"accept-encoding\":\"gzip, deflate, br, zstd\",\n",
    "            \"accept\":\"text/html,application/xhtml+xml,application/xml;q=0.9,image/avif,image/webp,image/apng,*/*;q=0.8,application/signed-exchange;v=b3;q=0.7\",\n",
    "            \"accept-language\":\"zh-CN,zh;q=0.9,en;q=0.8,en-GB;q=0.7,en-US;q=0.6\",\n",
    "            \"connection\":\"keep-alive\",\n",
    "            \"host\":\"ssr1.scrape.center\",\n",
    "        }\n",
    "    \n",
    "    #构造url，翻页\n",
    "    def get_url_list(self):\n",
    "            url_list = [self.basic_url+f\"page/{i}\" for i in range(1,11)]\n",
    "            return url_list\n",
    "    #获取响应\n",
    "    def get_response(self,url):\n",
    "        response = requests.get(url,headers=self.headers)\n",
    "        if response.status_code == 401:\n",
    "             response = requests.get(url,headers=self.headers,auth=(\"admin\",\"admin\"))\n",
    "        html_str = response.content.decode()\n",
    "        return html_str\n",
    "    #清洗数据\n",
    "    def get_data(self,html_str):\n",
    "        HtmlData = etree.HTML(html_str)\n",
    "        data = pd.DataFrame(columns=[\"电影名称\",\"类型\",\"产地\",\"时长\",\"得分\"])\n",
    "        div_list = HtmlData.xpath(\"//div[@class='el-card__body']\")\n",
    "        for div in div_list:\n",
    "            info_dicts = {}\n",
    "            info_dicts[\"电影名称\"] = div.xpath(\".//a[@class='name']/h2//text()\")[0]\n",
    "            info_dicts[\"类型\"] = \"-\".join(div.xpath(\".//div[@class='categories']//span/text()\"))\n",
    "            info_dicts[\"产地\"] = div.xpath(\".//div[@class='m-v-sm info'][1]/span[1]/text()\")[0]\n",
    "            info_dicts[\"时长\"] = div.xpath(\".//div[@class='m-v-sm info'][1]/span[3]/text()\")[0]\n",
    "            info_dicts[\"得分\"] = div.xpath(\".//p[@class='score m-t-md m-b-n-sm']/text()\")[0].replace(\"\\n                \",\"\")\n",
    "            info_df = pd.DataFrame(info_dicts,index=[0])\n",
    "            data = pd.concat([data,info_df])\n",
    "\n",
    "        return data\n",
    "\n",
    "\n",
    "\n",
    "    def run(self):\n",
    "         #运行主程序\n",
    "         #1、获取url列表\n",
    "        need_data = pd.DataFrame(columns=[\"电影名称\",\"类型\",\"产地\",\"时长\",\"得分\"])\n",
    "        url_list = self.get_url_list()\n",
    "        for url in url_list:\n",
    "            #2、发送请求，获取响应\n",
    "            html_str = self.get_response(url)\n",
    "            #3、清洗数据\n",
    "            data = self.get_data(html_str)\n",
    "            #保存数据\n",
    "            need_data = pd.concat([need_data,data])\n",
    "            sleep(2)\n",
    "        need_data.to_excel(\".\\spider数据.xlsx\",index=False)\n",
    "\n",
    "        "
   ]
  },
  {
   "cell_type": "code",
   "execution_count": null,
   "metadata": {},
   "outputs": [],
   "source": []
  },
  {
   "cell_type": "code",
   "execution_count": 16,
   "metadata": {},
   "outputs": [],
   "source": [
    "if __name__ == \"__main__\":\n",
    "    Spider = Test_1_Spider()\n",
    "    Spider.run()"
   ]
  },
  {
   "cell_type": "code",
   "execution_count": null,
   "metadata": {},
   "outputs": [],
   "source": []
  }
 ],
 "metadata": {
  "kernelspec": {
   "display_name": "Python 3",
   "language": "python",
   "name": "python3"
  },
  "language_info": {
   "codemirror_mode": {
    "name": "ipython",
    "version": 3
   },
   "file_extension": ".py",
   "mimetype": "text/x-python",
   "name": "python",
   "nbconvert_exporter": "python",
   "pygments_lexer": "ipython3",
   "version": "3.9.9"
  }
 },
 "nbformat": 4,
 "nbformat_minor": 2
}
