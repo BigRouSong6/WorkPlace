{
 "cells": [
  {
   "cell_type": "code",
   "execution_count": 1,
   "metadata": {},
   "outputs": [],
   "source": [
    "import pandas as pd\n",
    "from selenium import webdriver\n",
    "from lxml import etree\n",
    "from time import sleep\n",
    "import json\n",
    "from selenium.webdriver.common.by import By\n",
    "from selenium.webdriver.common.action_chains import ActionChains\n"
   ]
  },
  {
   "cell_type": "code",
   "execution_count": 2,
   "metadata": {},
   "outputs": [
    {
     "name": "stderr",
     "output_type": "stream",
     "text": [
      "C:\\Users\\yuhuyi\\AppData\\Local\\Temp\\ipykernel_7456\\4222959332.py:1: DeprecationWarning: executable_path has been deprecated, please pass in a Service object\n",
      "  driver = webdriver.Chrome(executable_path=\"./chromedriver.exe\")\n"
     ]
    }
   ],
   "source": [
    "driver = webdriver.Chrome(executable_path=\"./chromedriver.exe\")"
   ]
  },
  {
   "cell_type": "code",
   "execution_count": 3,
   "metadata": {},
   "outputs": [],
   "source": [
    "driver.get(\"http://backend.jiabeisw.cn/#/login?redirect=%2Findex\")"
   ]
  },
  {
   "cell_type": "code",
   "execution_count": 4,
   "metadata": {},
   "outputs": [],
   "source": [
    "#登录\n",
    "driver.find_element(by=\"name\",value=\"loginName\").send_keys(\"18123785782\")\n",
    "driver.find_element(by=\"name\",value=\"password\").send_keys(\"yuhuyi94520@\")\n",
    "driver.find_element(By.TAG_NAME,\"button\").click()"
   ]
  },
  {
   "cell_type": "code",
   "execution_count": 5,
   "metadata": {},
   "outputs": [],
   "source": [
    "#依次点击话费业务——>订单管理——>下游充值订单——>人工补单\n",
    "driver.find_element(By.XPATH,'//*[@id=\"app\"]/div/div[2]/div[1]/div[2]/div/div/ul/li/i').click()\n",
    "sleep(1)\n",
    "driver.find_element(By.XPATH,'//*[@id=\"app\"]/div/div[2]/div[2]/div[1]/div/ul/li[4]/div/span').click()\n",
    "sleep(1)\n",
    "driver.find_element(By.XPATH,'//*[@id=\"app\"]/div/div[2]/div[2]/div[1]/div/ul/li[4]/ul/li[1]/span').click()\n",
    "sleep(1)\n",
    "driver.find_element(By.XPATH,'//*[@id=\"app\"]/div/div[2]/div[2]/div[2]/div/div[2]/div/div[1]/div/div/div[2]/div/button[4]/span').click()"
   ]
  },
  {
   "cell_type": "code",
   "execution_count": 12,
   "metadata": {},
   "outputs": [
    {
     "ename": "NoSuchElementException",
     "evalue": "Message: no such element: Unable to locate element: {\"method\":\"xpath\",\"selector\":\"/html/body/div[12]/div[1]/div[1]/ul/li[1]/span[1]\"}\n  (Session info: chrome=99.0.4844.51)\nStacktrace:\nBacktrace:\n\tOrdinal0 [0x00409943+2595139]\n\tOrdinal0 [0x0039C9F1+2148849]\n\tOrdinal0 [0x00294528+1066280]\n\tOrdinal0 [0x002C0FD4+1249236]\n\tOrdinal0 [0x002C11CB+1249739]\n\tOrdinal0 [0x002ED812+1431570]\n\tOrdinal0 [0x002DBA34+1358388]\n\tOrdinal0 [0x002EBAF2+1424114]\n\tOrdinal0 [0x002DB806+1357830]\n\tOrdinal0 [0x002B6086+1204358]\n\tOrdinal0 [0x002B6F96+1208214]\n\tGetHandleVerifier [0x005AB232+1658114]\n\tGetHandleVerifier [0x0066312C+2411516]\n\tGetHandleVerifier [0x0049F261+560433]\n\tGetHandleVerifier [0x0049E366+556598]\n\tOrdinal0 [0x003A286B+2173035]\n\tOrdinal0 [0x003A75F8+2192888]\n\tOrdinal0 [0x003A76E5+2193125]\n\tOrdinal0 [0x003B11FC+2232828]\n\tBaseThreadInitThunk [0x7718FCC9+25]\n\tRtlGetAppContainerNamedObjectPath [0x7750809E+286]\n\tRtlGetAppContainerNamedObjectPath [0x7750806E+238]\n",
     "output_type": "error",
     "traceback": [
      "\u001b[1;31m---------------------------------------------------------------------------\u001b[0m",
      "\u001b[1;31mNoSuchElementException\u001b[0m                    Traceback (most recent call last)",
      "Cell \u001b[1;32mIn[12], line 13\u001b[0m\n\u001b[0;32m     11\u001b[0m driver\u001b[38;5;241m.\u001b[39mfind_element(By\u001b[38;5;241m.\u001b[39mXPATH,\u001b[38;5;124m'\u001b[39m\u001b[38;5;124m//*[@id=\u001b[39m\u001b[38;5;124m\"\u001b[39m\u001b[38;5;124mapp\u001b[39m\u001b[38;5;124m\"\u001b[39m\u001b[38;5;124m]/div/div[2]/div[2]/div[2]/div/div[2]/div/div[1]/div/div/div[8]/div/div[2]/form/div/div/div[4]/div/div/div/input\u001b[39m\u001b[38;5;124m'\u001b[39m)\u001b[38;5;241m.\u001b[39mclick()\n\u001b[0;32m     12\u001b[0m sleep(\u001b[38;5;241m1\u001b[39m)\n\u001b[1;32m---> 13\u001b[0m \u001b[43mdriver\u001b[49m\u001b[38;5;241;43m.\u001b[39;49m\u001b[43mfind_element\u001b[49m\u001b[43m(\u001b[49m\u001b[43mBy\u001b[49m\u001b[38;5;241;43m.\u001b[39;49m\u001b[43mXPATH\u001b[49m\u001b[43m,\u001b[49m\u001b[38;5;124;43m'\u001b[39;49m\u001b[38;5;124;43m/html/body/div[12]/div[1]/div[1]/ul/li[1]/span[1]\u001b[39;49m\u001b[38;5;124;43m'\u001b[39;49m\u001b[43m)\u001b[49m\u001b[38;5;241m.\u001b[39mclick()\n\u001b[0;32m     15\u001b[0m \u001b[38;5;66;03m# #充值号码-输入\u001b[39;00m\n\u001b[0;32m     16\u001b[0m \u001b[38;5;66;03m# driver.find_element(By.XPATH,'//*[@id=\"app\"]/div/div[2]/div[2]/div[2]/div/div[2]/div/div[1]/div/div/div[8]/div/div[2]/form/div/div/div[5]/div/div/input').send_keys(\"18123785782\")\u001b[39;00m\n\u001b[0;32m     17\u001b[0m \n\u001b[1;32m   (...)\u001b[0m\n\u001b[0;32m     23\u001b[0m \u001b[38;5;66;03m# #提交\u001b[39;00m\n\u001b[0;32m     24\u001b[0m \u001b[38;5;66;03m# driver.find_element(By.XPATH,'//*[@id=\"app\"]/div/div[2]/div[2]/div[2]/div/div[2]/div/div[1]/div/div/div[8]/div/div[3]/div/button[1]/span').click()\u001b[39;00m\n",
      "File \u001b[1;32mc:\\Users\\yuhuyi\\AppData\\Local\\Programs\\Python\\Python311\\Lib\\site-packages\\selenium\\webdriver\\remote\\webdriver.py:831\u001b[0m, in \u001b[0;36mWebDriver.find_element\u001b[1;34m(self, by, value)\u001b[0m\n\u001b[0;32m    828\u001b[0m     by \u001b[38;5;241m=\u001b[39m By\u001b[38;5;241m.\u001b[39mCSS_SELECTOR\n\u001b[0;32m    829\u001b[0m     value \u001b[38;5;241m=\u001b[39m \u001b[38;5;124mf\u001b[39m\u001b[38;5;124m'\u001b[39m\u001b[38;5;124m[name=\u001b[39m\u001b[38;5;124m\"\u001b[39m\u001b[38;5;132;01m{\u001b[39;00mvalue\u001b[38;5;132;01m}\u001b[39;00m\u001b[38;5;124m\"\u001b[39m\u001b[38;5;124m]\u001b[39m\u001b[38;5;124m'\u001b[39m\n\u001b[1;32m--> 831\u001b[0m \u001b[38;5;28;01mreturn\u001b[39;00m \u001b[38;5;28;43mself\u001b[39;49m\u001b[38;5;241;43m.\u001b[39;49m\u001b[43mexecute\u001b[49m\u001b[43m(\u001b[49m\u001b[43mCommand\u001b[49m\u001b[38;5;241;43m.\u001b[39;49m\u001b[43mFIND_ELEMENT\u001b[49m\u001b[43m,\u001b[49m\u001b[43m \u001b[49m\u001b[43m{\u001b[49m\u001b[38;5;124;43m\"\u001b[39;49m\u001b[38;5;124;43musing\u001b[39;49m\u001b[38;5;124;43m\"\u001b[39;49m\u001b[43m:\u001b[49m\u001b[43m \u001b[49m\u001b[43mby\u001b[49m\u001b[43m,\u001b[49m\u001b[43m \u001b[49m\u001b[38;5;124;43m\"\u001b[39;49m\u001b[38;5;124;43mvalue\u001b[39;49m\u001b[38;5;124;43m\"\u001b[39;49m\u001b[43m:\u001b[49m\u001b[43m \u001b[49m\u001b[43mvalue\u001b[49m\u001b[43m}\u001b[49m\u001b[43m)\u001b[49m[\u001b[38;5;124m\"\u001b[39m\u001b[38;5;124mvalue\u001b[39m\u001b[38;5;124m\"\u001b[39m]\n",
      "File \u001b[1;32mc:\\Users\\yuhuyi\\AppData\\Local\\Programs\\Python\\Python311\\Lib\\site-packages\\selenium\\webdriver\\remote\\webdriver.py:440\u001b[0m, in \u001b[0;36mWebDriver.execute\u001b[1;34m(self, driver_command, params)\u001b[0m\n\u001b[0;32m    438\u001b[0m response \u001b[38;5;241m=\u001b[39m \u001b[38;5;28mself\u001b[39m\u001b[38;5;241m.\u001b[39mcommand_executor\u001b[38;5;241m.\u001b[39mexecute(driver_command, params)\n\u001b[0;32m    439\u001b[0m \u001b[38;5;28;01mif\u001b[39;00m response:\n\u001b[1;32m--> 440\u001b[0m     \u001b[38;5;28;43mself\u001b[39;49m\u001b[38;5;241;43m.\u001b[39;49m\u001b[43merror_handler\u001b[49m\u001b[38;5;241;43m.\u001b[39;49m\u001b[43mcheck_response\u001b[49m\u001b[43m(\u001b[49m\u001b[43mresponse\u001b[49m\u001b[43m)\u001b[49m\n\u001b[0;32m    441\u001b[0m     response[\u001b[38;5;124m\"\u001b[39m\u001b[38;5;124mvalue\u001b[39m\u001b[38;5;124m\"\u001b[39m] \u001b[38;5;241m=\u001b[39m \u001b[38;5;28mself\u001b[39m\u001b[38;5;241m.\u001b[39m_unwrap_value(response\u001b[38;5;241m.\u001b[39mget(\u001b[38;5;124m\"\u001b[39m\u001b[38;5;124mvalue\u001b[39m\u001b[38;5;124m\"\u001b[39m, \u001b[38;5;28;01mNone\u001b[39;00m))\n\u001b[0;32m    442\u001b[0m     \u001b[38;5;28;01mreturn\u001b[39;00m response\n",
      "File \u001b[1;32mc:\\Users\\yuhuyi\\AppData\\Local\\Programs\\Python\\Python311\\Lib\\site-packages\\selenium\\webdriver\\remote\\errorhandler.py:245\u001b[0m, in \u001b[0;36mErrorHandler.check_response\u001b[1;34m(self, response)\u001b[0m\n\u001b[0;32m    243\u001b[0m         alert_text \u001b[38;5;241m=\u001b[39m value[\u001b[38;5;124m\"\u001b[39m\u001b[38;5;124malert\u001b[39m\u001b[38;5;124m\"\u001b[39m]\u001b[38;5;241m.\u001b[39mget(\u001b[38;5;124m\"\u001b[39m\u001b[38;5;124mtext\u001b[39m\u001b[38;5;124m\"\u001b[39m)\n\u001b[0;32m    244\u001b[0m     \u001b[38;5;28;01mraise\u001b[39;00m exception_class(message, screen, stacktrace, alert_text)  \u001b[38;5;66;03m# type: ignore[call-arg]  # mypy is not smart enough here\u001b[39;00m\n\u001b[1;32m--> 245\u001b[0m \u001b[38;5;28;01mraise\u001b[39;00m exception_class(message, screen, stacktrace)\n",
      "\u001b[1;31mNoSuchElementException\u001b[0m: Message: no such element: Unable to locate element: {\"method\":\"xpath\",\"selector\":\"/html/body/div[12]/div[1]/div[1]/ul/li[1]/span[1]\"}\n  (Session info: chrome=99.0.4844.51)\nStacktrace:\nBacktrace:\n\tOrdinal0 [0x00409943+2595139]\n\tOrdinal0 [0x0039C9F1+2148849]\n\tOrdinal0 [0x00294528+1066280]\n\tOrdinal0 [0x002C0FD4+1249236]\n\tOrdinal0 [0x002C11CB+1249739]\n\tOrdinal0 [0x002ED812+1431570]\n\tOrdinal0 [0x002DBA34+1358388]\n\tOrdinal0 [0x002EBAF2+1424114]\n\tOrdinal0 [0x002DB806+1357830]\n\tOrdinal0 [0x002B6086+1204358]\n\tOrdinal0 [0x002B6F96+1208214]\n\tGetHandleVerifier [0x005AB232+1658114]\n\tGetHandleVerifier [0x0066312C+2411516]\n\tGetHandleVerifier [0x0049F261+560433]\n\tGetHandleVerifier [0x0049E366+556598]\n\tOrdinal0 [0x003A286B+2173035]\n\tOrdinal0 [0x003A75F8+2192888]\n\tOrdinal0 [0x003A76E5+2193125]\n\tOrdinal0 [0x003B11FC+2232828]\n\tBaseThreadInitThunk [0x7718FCC9+25]\n\tRtlGetAppContainerNamedObjectPath [0x7750809E+286]\n\tRtlGetAppContainerNamedObjectPath [0x7750806E+238]\n"
     ]
    }
   ],
   "source": [
    "#填入补单信息\n",
    "#代理商-输入\n",
    "# driver.find_element(By.XPATH,'//*[@id=\"app\"]/div/div[2]/div[2]/div[2]/div/div[2]/div/div[1]/div/div/div[8]/div/div[2]/form/div/div/div[1]/div/div/div/input').send_keys(\"15889640829\")\n",
    "#交易密码-输入\n",
    "# driver.find_element(By.XPATH,'//*[@id=\"app\"]/div/div[2]/div[2]/div[2]/div/div[2]/div/div[1]/div/div/div[8]/div/div[2]/form/div/div/div[2]/div/div/input').send_keys(\"123456\")\n",
    "#业务类型-点击-选择\n",
    "# driver.find_element(By.XPATH,'//*[@id=\"app\"]/div/div[2]/div[2]/div[2]/div/div[2]/div/div[1]/div/div/div[8]/div/div[2]/form/div/div/div[3]/div/div/div/input').click()\n",
    "# driver.find_element(By.XPATH,'/html/body/div[12]/div[1]/div[1]/ul/li[1]/span[1]').click()\n",
    "\n",
    "# #运营商-点击-选择\n",
    "driver.find_element(By.XPATH,'//*[@id=\"app\"]/div/div[2]/div[2]/div[2]/div/div[2]/div/div[1]/div/div/div[8]/div/div[2]/form/div/div/div[4]/div/div/div/input').click()\n",
    "sleep(1)\n",
    "driver.find_element(By.XPATH,'/html/body/div[12]/div[1]/div[1]/ul/li[1]/span[1]').click()\n",
    "\n",
    "# #充值号码-输入\n",
    "# driver.find_element(By.XPATH,'//*[@id=\"app\"]/div/div[2]/div[2]/div[2]/div/div[2]/div/div[1]/div/div/div[8]/div/div[2]/form/div/div/div[5]/div/div/input').send_keys(\"18123785782\")\n",
    "\n",
    "# #充值金额-点击-选择\n",
    "# driver.find_element(By.XPATH,'//*[@id=\"app\"]/div/div[2]/div[2]/div[2]/div/div[2]/div/div[1]/div/div/div[8]/div/div[2]/form/div/div/div[6]/div/div/div/input').click()\n",
    "# driver.find_element(By.XPATH,'/html/body/div[12]/div[1]/div[1]/ul/li[1]/span[1]').click()\n",
    "\n",
    "\n",
    "# #提交\n",
    "# driver.find_element(By.XPATH,'//*[@id=\"app\"]/div/div[2]/div[2]/div[2]/div/div[2]/div/div[1]/div/div/div[8]/div/div[3]/div/button[1]/span').click()"
   ]
  },
  {
   "cell_type": "code",
   "execution_count": null,
   "metadata": {},
   "outputs": [],
   "source": []
  },
  {
   "cell_type": "code",
   "execution_count": 10,
   "metadata": {},
   "outputs": [],
   "source": [
    "driver.close()"
   ]
  }
 ],
 "metadata": {
  "kernelspec": {
   "display_name": "Python 3",
   "language": "python",
   "name": "python3"
  },
  "language_info": {
   "codemirror_mode": {
    "name": "ipython",
    "version": 3
   },
   "file_extension": ".py",
   "mimetype": "text/x-python",
   "name": "python",
   "nbconvert_exporter": "python",
   "pygments_lexer": "ipython3",
   "version": "3.11.3"
  }
 },
 "nbformat": 4,
 "nbformat_minor": 2
}
