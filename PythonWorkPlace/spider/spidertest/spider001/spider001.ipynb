{
 "cells": [
  {
   "cell_type": "code",
   "execution_count": 1,
   "metadata": {},
   "outputs": [],
   "source": [
    "# 引入包\n",
    "import requests\n",
    "import pandas as pd\n",
    "from lxml import etree\n",
    "\n",
    "\n",
    "\n",
    "#   基础信息\n",
    "basic_url = 'https://ssr1.scrape.center/'\n",
    "\n",
    "headers = {\n",
    "    \"user-agent\":\"Mozilla/5.0 (Windows NT 10.0; Win64; x64) AppleWebKit/537.36 (KHTML, like Gecko) Chrome/131.0.0.0 Safari/537.36 Edg/131.0.0.0\",\n",
    "    \"accept-encoding\":\"gzip, deflate, br, zstd\",\n",
    "    \"accept\":\"text/html,application/xhtml+xml,application/xml;q=0.9,image/avif,image/webp,image/apng,*/*;q=0.8,application/signed-exchange;v=b3;q=0.7\",\n",
    "    \"accept-language\":\"zh-CN,zh;q=0.9,en;q=0.8,en-GB;q=0.7,en-US;q=0.6\",\n",
    "    \"connection\":\"keep-alive\",\n",
    "    \"host\":\"ssr1.scrape.center\",\n",
    "}\n"
   ]
  },
  {
   "cell_type": "code",
   "execution_count": 2,
   "metadata": {},
   "outputs": [],
   "source": [
    "#请求、获取元素\n",
    "r = requests.get(basic_url)\n",
    "html = etree.HTML(r.text)\n",
    "\n",
    "\n"
   ]
  },
  {
   "cell_type": "code",
   "execution_count": 63,
   "metadata": {},
   "outputs": [],
   "source": [
    "name_list = html.xpath(\"//div[@class='el-card__body']//a[@class='name']/h2\")\n",
    "categories_list = html.xpath(\"//div[@class='el-card__body']//div[@class='categories']\")\n",
    "origin_list = html.xpath(\"//div[@class='el-card__body']//div[@class='m-v-sm info'][1]/span[1]\")\n",
    "duration_list = html.xpath(\"//div[@class='el-card__body']//div[@class='m-v-sm info'][1]/span[3]\")\n",
    "score_list = html.xpath(\"//div[@class='el-card__body']//p[@class='score m-t-md m-b-n-sm']\")\n",
    "\n",
    "\n",
    "\n"
   ]
  },
  {
   "cell_type": "code",
   "execution_count": 55,
   "metadata": {},
   "outputs": [],
   "source": [
    "score_list = html.xpath(\"//div[@class='el-card__body']//p[@class='score m-t-md m-b-n-sm']\")"
   ]
  },
  {
   "cell_type": "code",
   "execution_count": 64,
   "metadata": {},
   "outputs": [
    {
     "name": "stdout",
     "output_type": "stream",
     "text": [
      "['剧情', '爱情']\n",
      "['剧情', '动作', '犯罪']\n",
      "['剧情', '犯罪']\n",
      "['剧情', '爱情', '灾难']\n",
      "['剧情', '喜剧', '爱情']\n",
      "['喜剧', '爱情', '古装']\n",
      "['剧情', '爱情', '历史', '战争']\n",
      "['剧情', '喜剧', '爱情']\n",
      "['剧情', '科幻']\n",
      "['动画', '歌舞', '冒险']\n"
     ]
    }
   ],
   "source": [
    "for i in categories_list:\n",
    "    # a= i.xpath(\".//text()\")[0][:10]\n",
    "    # a= i.xpath(\".//text()\")[0].replace(\"\\n                \",\"\")\n",
    "    a= i.xpath(\".//span//text()\")\n",
    "    print(a)"
   ]
  },
  {
   "cell_type": "code",
   "execution_count": 45,
   "metadata": {},
   "outputs": [],
   "source": [
    "# class Spider(object):\n",
    "#     def __init__(self):\n",
    "#         pass\n",
    "    \n",
    "#     def spider():\n",
    "#         pass\n",
    "    \n",
    "#     def close():\n",
    "#         pass"
   ]
  },
  {
   "cell_type": "code",
   "execution_count": null,
   "metadata": {},
   "outputs": [],
   "source": []
  }
 ],
 "metadata": {
  "kernelspec": {
   "display_name": "Python 3",
   "language": "python",
   "name": "python3"
  },
  "language_info": {
   "codemirror_mode": {
    "name": "ipython",
    "version": 3
   },
   "file_extension": ".py",
   "mimetype": "text/x-python",
   "name": "python",
   "nbconvert_exporter": "python",
   "pygments_lexer": "ipython3",
   "version": "3.11.3"
  }
 },
 "nbformat": 4,
 "nbformat_minor": 2
}
