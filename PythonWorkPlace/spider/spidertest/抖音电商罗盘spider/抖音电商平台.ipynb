{
 "cells": [
  {
   "cell_type": "code",
   "execution_count": 1,
   "id": "eafc8ad8",
   "metadata": {},
   "outputs": [],
   "source": [
    "import pandas as pd\n",
    "import json\n",
    "import os\n",
    "import re"
   ]
  },
  {
   "cell_type": "code",
   "execution_count": 2,
   "id": "dd06aca7",
   "metadata": {},
   "outputs": [],
   "source": [
    "def File_merge_json(Folder):  #Folder文件夹路径\n",
    "    try:\n",
    "        File_List = []  #存储文件夹下所有文件的路径\n",
    "        DataFrame_List = []  #存储dataframe\n",
    "        for root,dirs,files in os.walk(Folder):\n",
    "            for file in files:\n",
    "                file_with_path = os.path.join(root,file)\n",
    "                File_List.append(file_with_path)\n",
    "                data_original = pd.read_json(file_with_path,encoding=\"utf-8\")\n",
    "                DataFrame_List.append(data_original)\n",
    "        datas = DataFrame_List\n",
    "        return datas\n",
    "    except  Exception as e: \n",
    "        print(e)\n",
    "dataAll = File_merge_json(r\"G:\\GitWorkPlace\\WorkPlace\\PythonWorkPlace\\spider\\spidertest\\抖音电商罗盘spider\\抖店爬虫\\电信100\")\n",
    "area=pd.read_excel(r\"./省份.xlsx\")"
   ]
  },
  {
   "cell_type": "code",
   "execution_count": 3,
   "id": "92b4ef04",
   "metadata": {},
   "outputs": [],
   "source": [
    "# dataAll[0][\"data\"][0][1][\"product_info\"]"
   ]
  },
  {
   "cell_type": "code",
   "execution_count": 4,
   "id": "0948fb1b",
   "metadata": {},
   "outputs": [],
   "source": [
    "need_data = pd.DataFrame(columns=[\"店铺名称\",\"成交金额_min\",\"成交金额_max\",\"点击次数_min\",\"点击次数_max\",\"商品ID\",\"商品名称\",\"是否首次上榜\",\"价格区间\",\"排名\"])\n",
    "for a in dataAll:\n",
    "    datasss = pd.DataFrame(columns=[\"店铺名称\",\"成交金额_min\",\"成交金额_max\",\"点击次数_min\",\"点击次数_max\",\"商品ID\",\"商品名称\",\"是否首次上榜\",\"价格区间\",\"排名\"])\n",
    "    lsits = a[\"data\"][0]\n",
    "    for i in lsits:\n",
    "        info_dicts = {}\n",
    "        info_dicts[\"店铺名称\"] = i[\"product_info\"][\"shop_list\"][0][\"shop_name\"]\n",
    "        info_dicts[\"商品名称\"] = i[\"product_info\"][\"name\"]\n",
    "        info_dicts[\"商品ID\"] = i[\"product_info\"][\"id\"]\n",
    "        # info_dicts[\"排名变化\"] = i[\"product_info\"][\"rank_change\"]\n",
    "        try:\n",
    "            info_dicts[\"点击次数_min\"] = i[\"product_click_cnt\"][\"value_range\"][0][\"value\"]\n",
    "            info_dicts[\"点击次数_max\"] = i[\"product_click_cnt\"][\"value_range\"][1][\"value\"]\n",
    "        except Exception as e:\n",
    "            # print(e)\n",
    "            pass\n",
    "        finally:\n",
    "            try:\n",
    "                info_dicts[\"成交金额_min\"] = i[\"new_pay_amt\"][\"value_range\"][0][\"value\"]\n",
    "                info_dicts[\"成交金额_max\"] = i[\"new_pay_amt\"][\"value_range\"][1][\"value\"]\n",
    "            except Exception as e:\n",
    "                # print(e)\n",
    "                pass   \n",
    "            finally:    \n",
    "                info_dicts[\"价格区间\"] = i[\"product_info\"][\"price_bin\"]\n",
    "                info_dicts[\"是否首次上榜\"] = i[\"product_info\"][\"newly_on_ranking\"]\n",
    "                info_dicts[\"排名\"] = i[\"product_info\"][\"rank\"]\n",
    "                info_df = pd.DataFrame(info_dicts,index=[0])\n",
    "                datasss = pd.concat([datasss,info_df])\n",
    "    need_data = pd.concat([need_data,datasss])\n",
    "    \n"
   ]
  },
  {
   "cell_type": "code",
   "execution_count": 5,
   "id": "cafb72df",
   "metadata": {},
   "outputs": [],
   "source": [
    "#数据清洗\n",
    "need_data[\"成交金额_max\"] = need_data[\"成交金额_max\"]/100\n",
    "need_data[\"成交金额_min\"] = need_data[\"成交金额_min\"]/100\n",
    "need_data.sort_values(by=\"排名\",inplace=True)"
   ]
  },
  {
   "cell_type": "code",
   "execution_count": 6,
   "id": "e84175fb",
   "metadata": {},
   "outputs": [],
   "source": [
    "# def get_data(a):\n",
    "#     data = pd.DataFrame(columns=[\"店铺名称\",\"成交金额_min\",\"成交金额_max\",\"点击次数_min\",\"点击次数_max\",\"商品ID\",\"商品名称\",\"是否首次上榜\",\"价格区间\",\"排名\"])\n",
    "#     lsits = a[\"data\"][0]\n",
    "#     for i in lsits:\n",
    "#         info_dicts = {}\n",
    "#         info_dicts[\"店铺名称\"] = i[\"product_info\"][\"shop_list\"][0][\"shop_name\"]\n",
    "#         info_dicts[\"商品名称\"] = i[\"product_info\"][\"name\"]\n",
    "#         info_dicts[\"商品ID\"] = i[\"product_info\"][\"id\"]\n",
    "#         info_dicts[\"点击次数_min\"] = i[\"product_click_cnt\"][\"value_range\"]\n",
    "#         info_dicts[\"点击次数_max\"] = i[\"product_click_cnt\"][\"value_range\"]\n",
    "#         info_dicts[\"成交金额_min\"] = i[\"new_pay_amt\"][\"value_range\"][0][\"value\"]\n",
    "#         info_dicts[\"成交金额_max\"] = i[\"new_pay_amt\"][\"value_range\"][1][\"value\"]\n",
    "#         info_dicts[\"价格区间\"] = i[\"product_info\"][\"price_bin\"]\n",
    "#         info_dicts[\"是否首次上榜\"] = i[\"product_info\"][\"newly_on_ranking\"]\n",
    "#         info_dicts[\"排名\"] = i[\"product_info\"][\"rank\"]\n",
    "#         info_df = pd.DataFrame(info_dicts,index=[0])\n",
    "#         data = pd.concat([data,info_df])\n",
    "#     return data"
   ]
  },
  {
   "cell_type": "code",
   "execution_count": 7,
   "id": "57cfa0b9",
   "metadata": {},
   "outputs": [],
   "source": [
    "# need_data = pd.DataFrame(columns=[\"店铺名称\",\"成交金额_min\",\"成交金额_max\",\"点击次数_min\",\"点击次数_max\",\"商品ID\",\"商品名称\",\"价格区间\",\"排名\"])\n",
    "# for data in dataAll:\n",
    "#     A = get_data(data)\n",
    "#     need_data = pd.concat([need_data,A])\n",
    "# need_data.to_excel(\".\\spider数据.xlsx\",index=False)"
   ]
  },
  {
   "cell_type": "code",
   "execution_count": 8,
   "id": "c4c1b026",
   "metadata": {},
   "outputs": [
    {
     "name": "stdout",
     "output_type": "stream",
     "text": [
      "list index out of range\n"
     ]
    }
   ],
   "source": [
    "#提取省份\n",
    "def test(x):\n",
    "    try:\n",
    "        x[\"省份\"]=[sa_name for sa_name in area[\"sa_name\"] if re.search(sa_name,x[\"商品名称\"])] [0]\n",
    "    except Exception as e:\n",
    "            print(e)\n",
    "    finally:\n",
    "        return x\n",
    "need_data =need_data.apply(test,axis=1)"
   ]
  },
  {
   "cell_type": "code",
   "execution_count": 9,
   "id": "ddce91d5",
   "metadata": {},
   "outputs": [
    {
     "data": {
      "text/html": [
       "<div>\n",
       "<style scoped>\n",
       "    .dataframe tbody tr th:only-of-type {\n",
       "        vertical-align: middle;\n",
       "    }\n",
       "\n",
       "    .dataframe tbody tr th {\n",
       "        vertical-align: top;\n",
       "    }\n",
       "\n",
       "    .dataframe thead th {\n",
       "        text-align: right;\n",
       "    }\n",
       "</style>\n",
       "<table border=\"1\" class=\"dataframe\">\n",
       "  <thead>\n",
       "    <tr style=\"text-align: right;\">\n",
       "      <th></th>\n",
       "      <th>价格区间</th>\n",
       "      <th>商品ID</th>\n",
       "      <th>商品名称</th>\n",
       "      <th>店铺名称</th>\n",
       "      <th>成交金额_max</th>\n",
       "      <th>成交金额_min</th>\n",
       "      <th>排名</th>\n",
       "      <th>是否首次上榜</th>\n",
       "      <th>点击次数_max</th>\n",
       "      <th>点击次数_min</th>\n",
       "      <th>省份</th>\n",
       "    </tr>\n",
       "  </thead>\n",
       "  <tbody>\n",
       "    <tr>\n",
       "      <th>0</th>\n",
       "      <td>¥100-¥100</td>\n",
       "      <td>3462283693555613740</td>\n",
       "      <td>安徽电信100元手机话费充值</td>\n",
       "      <td>千行你我充值专营店</td>\n",
       "      <td>500000.0</td>\n",
       "      <td>250000.0</td>\n",
       "      <td>1</td>\n",
       "      <td>False</td>\n",
       "      <td>100</td>\n",
       "      <td>50</td>\n",
       "      <td>安徽</td>\n",
       "    </tr>\n",
       "  </tbody>\n",
       "</table>\n",
       "</div>"
      ],
      "text/plain": [
       "        价格区间                 商品ID            商品名称       店铺名称  成交金额_max   \n",
       "0  ¥100-¥100  3462283693555613740  安徽电信100元手机话费充值  千行你我充值专营店  500000.0  \\\n",
       "\n",
       "   成交金额_min  排名  是否首次上榜  点击次数_max  点击次数_min  省份  \n",
       "0  250000.0   1   False       100        50  安徽  "
      ]
     },
     "execution_count": 9,
     "metadata": {},
     "output_type": "execute_result"
    }
   ],
   "source": [
    "need_data.head(1)"
   ]
  },
  {
   "cell_type": "code",
   "execution_count": 10,
   "id": "6c8b5faf",
   "metadata": {},
   "outputs": [],
   "source": [
    "need_data.to_excel(\".\\spider数据.xlsx\",index=False)"
   ]
  },
  {
   "cell_type": "code",
   "execution_count": null,
   "id": "2815964c",
   "metadata": {},
   "outputs": [],
   "source": []
  }
 ],
 "metadata": {
  "kernelspec": {
   "display_name": "Python 3",
   "language": "python",
   "name": "python3"
  },
  "language_info": {
   "codemirror_mode": {
    "name": "ipython",
    "version": 3
   },
   "file_extension": ".py",
   "mimetype": "text/x-python",
   "name": "python",
   "nbconvert_exporter": "python",
   "pygments_lexer": "ipython3",
   "version": "3.11.3"
  }
 },
 "nbformat": 4,
 "nbformat_minor": 5
}
