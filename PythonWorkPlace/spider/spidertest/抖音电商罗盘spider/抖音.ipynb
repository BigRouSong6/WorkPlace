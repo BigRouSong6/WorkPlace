{
 "cells": [
  {
   "cell_type": "code",
   "execution_count": 59,
   "id": "eafc8ad8",
   "metadata": {},
   "outputs": [],
   "source": [
    "import pandas as pd\n",
    "import json\n",
    "import os\n",
    "import re\n",
    "from selenium import webdriver\n",
    "from selenium.webdriver.common.by import By\n",
    "from time import sleep"
   ]
  },
  {
   "cell_type": "code",
   "execution_count": 60,
   "id": "e00ba0f2",
   "metadata": {},
   "outputs": [
    {
     "name": "stderr",
     "output_type": "stream",
     "text": [
      "C:\\Users\\yuhuyi\\AppData\\Local\\Temp\\ipykernel_6724\\1733630707.py:4: DeprecationWarning: executable_path has been deprecated, please pass in a Service object\n",
      "  bro = webdriver.Chrome(executable_path='.\\chromedriver.exe',options = option)\n"
     ]
    },
    {
     "data": {
      "text/plain": [
       "{'identifier': '2'}"
      ]
     },
     "execution_count": 60,
     "metadata": {},
     "output_type": "execute_result"
    }
   ],
   "source": [
    "option = webdriver.ChromeOptions()\n",
    "option.add_experimental_option('excludeSwitches', ['enable-automation'])\n",
    "option.add_experimental_option('useAutomationExtension', False)\n",
    "bro = webdriver.Chrome(executable_path='.\\chromedriver.exe',options = option)\n",
    "bro.execute_cdp_cmd('Page.addScriptToEvaluateOnNewDocument',\n",
    "                            {'source': 'Object.defineProperty(navigator, \"webdriver\", {get: () => undefined})'})"
   ]
  },
  {
   "cell_type": "code",
   "execution_count": 61,
   "id": "e7ef8f80",
   "metadata": {},
   "outputs": [],
   "source": [
    "# \n",
    "basic_url = \"https://fxg.jinritemai.com/login/common\"\n",
    "# options  = webdriver.ChromeOptions()     \n",
    "# options.add_argument('--ignore-certificate-errors')\n",
    "# options.add_experimental_option('excludeSwitches', ['enable-automation'])\n",
    "# options.add_experimental_option('excludeSwitches', ['enable-logging'])\n",
    "# bro = webdriver.Chrome(executable_path='.\\chromedriver.exe',options = options)\n",
    "bro.get(basic_url)"
   ]
  },
  {
   "cell_type": "code",
   "execution_count": 62,
   "id": "2e22af4a",
   "metadata": {},
   "outputs": [],
   "source": [
    "bro.find_element(By.XPATH,'//*[@id=\"ecomLoginForm\"]/section/div[2]/div[2]').click()"
   ]
  },
  {
   "cell_type": "code",
   "execution_count": 63,
   "id": "89a9b823",
   "metadata": {},
   "outputs": [],
   "source": [
    "# 输入账号密码+勾选登录\n",
    "bro.find_element(By.XPATH,'//*[@id=\"ecomLoginForm\"]/section/div[3]/div[1]/div/div/span/input').send_keys(\"chen.lin@jiabeisw.com\")\n",
    "sleep(1)\n",
    "bro.find_element(By.XPATH,'//*[@id=\"ecomLoginForm\"]/section/div[3]/div[2]/div/div/span/input').send_keys(\"Jiabei240312\")\n",
    "sleep(1)\n",
    "bro.find_element(By.XPATH,'//*[@id=\"root\"]/div/div[1]/div/div/div/div/div[2]/div[4]/div[1]/label/span/input').click()\n",
    "sleep(1)\n",
    "bro.find_element(By.XPATH,'//*[@id=\"ecomLoginForm\"]/section/div[6]/button').click()\n",
    "sleep(8)\n"
   ]
  },
  {
   "cell_type": "code",
   "execution_count": 69,
   "id": "b49afaa7",
   "metadata": {},
   "outputs": [],
   "source": [
    "#电商罗盘——>信息\n",
    "bro.find_element(By.XPATH,'//*[@id=\"fxg-pc-header\"]/div/div[1]/div[2]/div[3]/div[1]/span').click()    #电商罗盘\n",
    "sleep(8)"
   ]
  },
  {
   "cell_type": "code",
   "execution_count": 70,
   "id": "cfd2a2f5",
   "metadata": {},
   "outputs": [],
   "source": [
    "#获取句柄，切换到新的页面\n",
    "window_handles = bro.window_handles\n",
    "bro.switch_to.window(window_handles[1])\n",
    "sleep(1)\n",
    "bro.find_element(By.XPATH,'//*[@id=\"21300\"]/span').click()\n"
   ]
  },
  {
   "cell_type": "code",
   "execution_count": null,
   "id": "15aed925",
   "metadata": {},
   "outputs": [],
   "source": [
    "sleep(1)\n",
    "bro.find_element(By.XPATH,'//*[@id=\"compass-container\"]/div[3]/div/div[1]/div/div[4]').click()"
   ]
  },
  {
   "cell_type": "code",
   "execution_count": 57,
   "id": "abd41663",
   "metadata": {},
   "outputs": [],
   "source": [
    "bro.find_element(By.XPATH,'//*[@id=\"root\"]/div/div[2]/div/div/div[1]/div[2]/div[1]').click()"
   ]
  },
  {
   "cell_type": "code",
   "execution_count": null,
   "id": "ef84f96f",
   "metadata": {},
   "outputs": [],
   "source": []
  },
  {
   "cell_type": "code",
   "execution_count": 71,
   "id": "8e8f4ac8",
   "metadata": {},
   "outputs": [],
   "source": [
    "bro.quit()"
   ]
  },
  {
   "cell_type": "code",
   "execution_count": null,
   "id": "f4001939",
   "metadata": {},
   "outputs": [],
   "source": [
    "bro.quit()"
   ]
  },
  {
   "cell_type": "code",
   "execution_count": null,
   "id": "f679a62b",
   "metadata": {},
   "outputs": [],
   "source": []
  }
 ],
 "metadata": {
  "kernelspec": {
   "display_name": "Python 3",
   "language": "python",
   "name": "python3"
  },
  "language_info": {
   "codemirror_mode": {
    "name": "ipython",
    "version": 3
   },
   "file_extension": ".py",
   "mimetype": "text/x-python",
   "name": "python",
   "nbconvert_exporter": "python",
   "pygments_lexer": "ipython3",
   "version": "3.11.3"
  }
 },
 "nbformat": 4,
 "nbformat_minor": 5
}
