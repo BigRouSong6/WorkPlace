{
 "cells": [
  {
   "cell_type": "code",
   "execution_count": null,
   "id": "8aee1beb",
   "metadata": {},
   "outputs": [],
   "source": [
    "from time import sleep\n",
    "from browsermobproxy import Server\n",
    "from selenium import webdriver\n",
    "from selenium.webdriver.chrome.options import Options\n",
    "import json\n",
    "from pprint import pprint"
   ]
  },
  {
   "cell_type": "code",
   "execution_count": null,
   "id": "66ef1df5",
   "metadata": {},
   "outputs": [],
   "source": [
    "# 启动代理\n",
    "server = Server(r\"G:\\GitWorkPlace\\WorkPlace\\PythonWorkPlace\\spider\\spidertest\\抖音电商罗盘spider\\browsermob-proxy-2.1.4\\bin\\\\browsermob-proxy.bat\")\n",
    "server.start()\n",
    "proxy = server.create_proxy()\n",
    "print('proxy', proxy.proxy)"
   ]
  },
  {
   "cell_type": "code",
   "execution_count": null,
   "id": "c79a27f1",
   "metadata": {},
   "outputs": [],
   "source": [
    "# 启动浏览器\n",
    "chrome_options = Options()\n",
    "chrome_options.add_argument('--ignore-certificate-errors')\n",
    "\n",
    "# 无浏览器界面，根据自己实际情况是否使用，我这里使用浏览器界面，故注释了这行代码\n",
    "# chrome_options.add_argument('--headless')\n",
    "\n",
    "# 不加载图片，提升运行速度\n",
    "# chrome_options.add_argument('blink-settings=imagesEnabled=false')\n",
    "\n",
    "# chrome_options.add_argument('user-agent=Mozilla/5.0 (Windows NT 10.0; Win64; x64) AppleWebKit/537.36 (KHTML, like Gecko) Chrome/89.0.4389.82 Safari/537.36')\n",
    "# 需要加上这句代码，否则有些网页会被浏览器拦截了。实际如何，看大家在用的过程的情况\n",
    "\n",
    "\n",
    "\n",
    "# chrome_options.add_experimental_option(\"debuggerAddress\", \"127.0.0.1:9222\")\n",
    "# 设置代理\n",
    "chrome_options.add_argument('--proxy-server={0}'.format(proxy.proxy))\n",
    "bro = webdriver.Chrome(options=chrome_options)"
   ]
  },
  {
   "cell_type": "code",
   "execution_count": null,
   "id": "26affbae",
   "metadata": {},
   "outputs": [],
   "source": [
    "\n",
    "# 监听结果\n",
    "base_url = 'https://www.baidu.com/'\n",
    "proxy.new_har(options={\n",
    "    'captureContent': True,\n",
    "    'captureHeaders': True\n",
    "})\n",
    "bro.get(base_url)\n",
    "sleep(5)\n"
   ]
  },
  {
   "cell_type": "code",
   "execution_count": null,
   "id": "93a65e4f",
   "metadata": {},
   "outputs": [],
   "source": [
    "\n",
    "# 读取结果\n",
    "result = proxy.har\n",
    "for entry in result['log']['entries']:\n",
    "    print(entry['request']['url'])\n",
    "    print(entry['response']['content'])"
   ]
  },
  {
   "cell_type": "code",
   "execution_count": null,
   "id": "d3fd9764",
   "metadata": {},
   "outputs": [],
   "source": [
    "server.stop()"
   ]
  },
  {
   "cell_type": "code",
   "execution_count": null,
   "id": "9ff3a93c",
   "metadata": {},
   "outputs": [],
   "source": []
  }
 ],
 "metadata": {
  "kernelspec": {
   "display_name": "Python 3",
   "language": "python",
   "name": "python3"
  },
  "language_info": {
   "codemirror_mode": {
    "name": "ipython",
    "version": 3
   },
   "file_extension": ".py",
   "mimetype": "text/x-python",
   "name": "python",
   "nbconvert_exporter": "python",
   "pygments_lexer": "ipython3",
   "version": "3.11.3"
  }
 },
 "nbformat": 4,
 "nbformat_minor": 5
}
