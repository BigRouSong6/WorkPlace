{
 "cells": [
  {
   "cell_type": "code",
   "execution_count": 1,
   "metadata": {},
   "outputs": [],
   "source": [
    "import requests\n",
    "\n",
    "headers = {\n",
    "    'Connection': 'keep-alive',\n",
    "    'sec-ch-ua': '\" Not A;Brand\";v=\"99\", \"Chromium\";v=\"99\", \"Google Chrome\";v=\"99\"',\n",
    "    'sec-ch-ua-mobile': '?0',\n",
    "    'User-Agent': 'Mozilla/5.0 (Windows NT 10.0; Win64; x64) AppleWebKit/537.36 (KHTML, like Gecko) Chrome/99.0.4844.51 Safari/537.36',\n",
    "    'sec-ch-ua-platform': '\"Windows\"',\n",
    "    'Accept': '*/*',\n",
    "    'Sec-Fetch-Site': 'cross-site',\n",
    "    'Sec-Fetch-Mode': 'no-cors',\n",
    "    'Sec-Fetch-Dest': 'script',\n",
    "    'Referer': 'https://authserver.whsw.cn/',\n",
    "    'Accept-Language': 'zh-CN,zh;q=0.9',\n",
    "}\n",
    "\n",
    "params = {\n",
    "    'callback': 'cx_captcha_function',\n",
    "    'captchaId': 'qDG21VMg9qS5Rcok4cfpnHGnpf5LhcAv',\n",
    "    'type': 'slide',\n",
    "    'version': '1.1.20',\n",
    "    'captchaKey': '25585b92407433c32595c189bbf261b4',\n",
    "    'token': '90d750d57d8290bae870813af32afc2e:1741453544490',\n",
    "    'referer': 'https://authserver.whsw.cn/cas/login?service=https%3A%2F%2Fauthserver.whsw.cn%2Flogin',\n",
    "    'iv': '9a379f1f3a67256d42e4cd0c7a1aa4c1',\n",
    "    '_': '1741445019219',\n",
    "}\n",
    "\n",
    "response = requests.get('https://captcha.chaoxing.com/captcha/get/verification/image', params=params, headers=headers)"
   ]
  },
  {
   "cell_type": "code",
   "execution_count": null,
   "metadata": {},
   "outputs": [],
   "source": [
    "import requests\n",
    "import pandas as pd\n",
    "import re\n",
    "import ddddocr\n",
    "import uuid\n",
    "import time\n"
   ]
  },
  {
   "cell_type": "code",
   "execution_count": null,
   "metadata": {},
   "outputs": [
    {
     "ename": "SyntaxError",
     "evalue": "invalid syntax (381356652.py, line 2)",
     "output_type": "error",
     "traceback": [
      "\u001b[1;36m  Cell \u001b[1;32mIn[5], line 2\u001b[1;36m\u001b[0m\n\u001b[1;33m    def __init__(self)\u001b[0m\n\u001b[1;37m                      ^\u001b[0m\n\u001b[1;31mSyntaxError\u001b[0m\u001b[1;31m:\u001b[0m invalid syntax\n"
     ]
    }
   ],
   "source": [
    "class SlidePass(self):\n",
    "    def __init__(self)\n",
    "        self.headers = {\n",
    "    'Connection': 'keep-alive',\n",
    "    'sec-ch-ua': '\" Not A;Brand\";v=\"99\", \"Chromium\";v=\"99\", \"Google Chrome\";v=\"99\"',\n",
    "    'sec-ch-ua-mobile': '?0',\n",
    "    'User-Agent': 'Mozilla/5.0 (Windows NT 10.0; Win64; x64) AppleWebKit/537.36 (KHTML, like Gecko) Chrome/99.0.4844.51 Safari/537.36',\n",
    "    'sec-ch-ua-platform': '\"Windows\"',\n",
    "    'Accept': '*/*',\n",
    "    'Sec-Fetch-Site': 'cross-site',\n",
    "    'Sec-Fetch-Mode': 'no-cors',\n",
    "    'Sec-Fetch-Dest': 'script',\n",
    "    'Referer': 'https://authserver.whsw.cn/',\n",
    "    'Accept-Language': 'zh-CN,zh;q=0.9',}\n",
    "        \n",
    "\n",
    "\n",
    "    def get_severtime(self):\n",
    "        url = \"https://captcha.chaoxing.com/captcha/get/conf\"ArithmeticError \n",
    "        params = {   \n",
    "            'callback': 'cx_captcha_function',\n",
    "            'captchaId': 'qDG21VMg9qS5Rcok4cfpnHGnpf5LhcAv',\n",
    "            '_': str(round(time.time()*1000,))         #本地时间戳\n",
    "            }\n",
    "        response = self.Toolrequests(url,method=\"get\",headers=self.headers,params=params)                                                          \n",
    "\n",
    "        \n",
    "        response = self.Toolrequests(\"\",method=\"get\",headers=self.headers)\n",
    "    def get_slide_pass(self):\n",
    "        pass\n",
    "\n",
    "    def Toolrequests(self,url,method=None,headers=\"\",params=None,data=None):\n",
    "        #请求工具方法\n",
    "        if method == \"get\":\n",
    "            response= requests.get(url,headers=headers,params=params)\n",
    "            return response\n",
    "        elif method == \"post\":\n",
    "            response = requests.post(url,headers=headers,data=data)\n",
    "            return response\n",
    "        else:\n",
    "            print(\"请求方法错误\")\n",
    "        \n",
    "    def get_slide(self):\n",
    "        pass\n",
    "    def get_encryption(self):\n",
    "        pass\n"
   ]
  },
  {
   "cell_type": "code",
   "execution_count": null,
   "metadata": {},
   "outputs": [],
   "source": []
  },
  {
   "cell_type": "code",
   "execution_count": null,
   "metadata": {},
   "outputs": [],
   "source": []
  }
 ],
 "metadata": {
  "kernelspec": {
   "display_name": "Python 3",
   "language": "python",
   "name": "python3"
  },
  "language_info": {
   "codemirror_mode": {
    "name": "ipython",
    "version": 3
   },
   "file_extension": ".py",
   "mimetype": "text/x-python",
   "name": "python",
   "nbconvert_exporter": "python",
   "pygments_lexer": "ipython3",
   "version": "3.9.9"
  }
 },
 "nbformat": 4,
 "nbformat_minor": 2
}
