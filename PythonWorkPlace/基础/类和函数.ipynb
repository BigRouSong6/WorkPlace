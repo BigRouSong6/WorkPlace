{
 "cells": [
  {
   "cell_type": "markdown",
   "metadata": {},
   "source": [
    "##### 类\n",
    "* 定义\n",
    "* 属性\n",
    "* 方法\n",
    "* 继承\n",
    "* 初始化函数\n",
    "* 实例属性\n",
    "* 访问限制"
   ]
  },
  {
   "cell_type": "code",
   "execution_count": 12,
   "metadata": {},
   "outputs": [],
   "source": [
    "# 函数\n",
    "def My_fun(name,message='信息'):\n",
    "    print(f'名字是{name}！{message}')\n",
    "\n",
    "# 参数\n",
    "# *args  --不定长，元组\n",
    "def My_fun2(*names):\n",
    "    for i in names:\n",
    "        print(i)\n",
    "# **kwargs --不定长关键参数，字典\n",
    "def My_fun3(**name):\n",
    "    for key,value in name.items():\n",
    "        print(f'键：{key},值：{value}')\n",
    "\n",
    "\n",
    "#演示\n",
    "My_fun('哈哈哈')\n",
    "My_fun2(1,2,4)\n",
    "My_fun3(name=1,age=18,sex='男')"
   ]
  },
  {
   "cell_type": "code",
   "execution_count": 14,
   "metadata": {},
   "outputs": [],
   "source": [
    "# 匿名函数\n",
    "# lambda parameters: expression\n",
    "A = lambda x,y,z : x+y+z"
   ]
  },
  {
   "cell_type": "code",
   "execution_count": 1,
   "metadata": {},
   "outputs": [],
   "source": [
    "#类\n",
    "# 定义、属性、方法\n",
    "class MyClass():\n",
    "    my_attribute = 0    #类的属性\n",
    "\n",
    "    def my_function(self):  #类的方法，self代表实例本身\n",
    "        print('Hello World')"
   ]
  },
  {
   "cell_type": "code",
   "execution_count": null,
   "metadata": {},
   "outputs": [],
   "source": [
    "# 继承\n",
    "class Son(MyClass):\n",
    "    son_attribute = 1   #子类的属性\n",
    "\n",
    "    def son_function(self):\n",
    "        print('Hello Son')  #子类的方法 \n",
    "# 子类可以通过super()函数调用父类的方法。例如：super().my_method()"
   ]
  },
  {
   "cell_type": "code",
   "execution_count": null,
   "metadata": {},
   "outputs": [],
   "source": [
    "# 初始化函数，类似于构造方法\n",
    "class MyClass:  \n",
    "    def __init__(self, arg1, arg2):  \n",
    "        self.arg1 = arg1  \n",
    "        self.arg2 = arg2  \n",
    "        self.my_method()  \n",
    "  \n",
    "    def my_method(self):  \n",
    "        print(\"Hello World\")"
   ]
  },
  {
   "cell_type": "code",
   "execution_count": null,
   "metadata": {},
   "outputs": [],
   "source": [
    "# 访问限制\n",
    "# 前面添加单下划线（_foo）      内部使用+子类继承\n",
    "# 前面添加双下划线（_foo）      内部使用+子类不能继承\n",
    "# 首尾添加双下划线（_foo__）    特殊变量\n",
    "\n",
    "class Myclasss():\n",
    "    def __init__(self):\n",
    "        self._protected_var = 20\n",
    "        self.public_var = \"默认公有\"\n",
    "    \n",
    "    def __private_fun():\n",
    "        print(\"私有\")       #不具备强制性"
   ]
  }
 ],
 "metadata": {
  "kernelspec": {
   "display_name": "Python 3",
   "language": "python",
   "name": "python3"
  },
  "language_info": {
   "codemirror_mode": {
    "name": "ipython",
    "version": 3
   },
   "file_extension": ".py",
   "mimetype": "text/x-python",
   "name": "python",
   "nbconvert_exporter": "python",
   "pygments_lexer": "ipython3",
   "version": "3.11.3"
  },
  "orig_nbformat": 4
 },
 "nbformat": 4,
 "nbformat_minor": 2
}
