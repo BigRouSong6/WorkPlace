{
 "cells": [
  {
   "cell_type": "markdown",
   "metadata": {},
   "source": [
    "#### 语句\n",
    "* 条件\n",
    "* 循环\n",
    "* 选择"
   ]
  },
  {
   "cell_type": "code",
   "execution_count": null,
   "metadata": {},
   "outputs": [],
   "source": [
    "#条件\n",
    "age = 26\n",
    "if age < 4 :\n",
    "    price = 0\n",
    "elif age < 18 :\n",
    "    price = 20\n",
    "elif age <60 :\n",
    "    price = 40\n",
    "else:\n",
    "    price = 30\n",
    "print(f'Your admission cost is {price} yuan.')\n",
    "\n",
    "#三元运算\n",
    "\n",
    "if age > 15:print(age)\n"
   ]
  },
  {
   "cell_type": "code",
   "execution_count": null,
   "metadata": {},
   "outputs": [],
   "source": [
    "# 循环\n",
    "# for、while、range、\n",
    "# break continue pass"
   ]
  },
  {
   "cell_type": "code",
   "execution_count": null,
   "metadata": {},
   "outputs": [],
   "source": [
    "# 选择  无switch，可杜撰\n",
    "switch={\n",
    "    0 : lambda x : x+2,\n",
    "    1 : lambda x : x**2,\n",
    "    2 : lambda x : x**3,\n",
    "    3 : lambda x : abs(x)\n",
    "}\n",
    "\n",
    "\n",
    "print(\"switch字典的输出结果为:{0}\".format(switch[0](-34)))"
   ]
  }
 ],
 "metadata": {
  "kernelspec": {
   "display_name": "Python 3",
   "language": "python",
   "name": "python3"
  },
  "language_info": {
   "codemirror_mode": {
    "name": "ipython",
    "version": 3
   },
   "file_extension": ".py",
   "mimetype": "text/x-python",
   "name": "python",
   "nbconvert_exporter": "python",
   "pygments_lexer": "ipython3",
   "version": "3.11.3"
  },
  "orig_nbformat": 4
 },
 "nbformat": 4,
 "nbformat_minor": 2
}
