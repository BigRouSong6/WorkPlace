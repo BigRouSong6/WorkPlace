{
 "cells": [
  {
   "cell_type": "code",
   "execution_count": null,
   "metadata": {},
   "outputs": [],
   "source": [
    "class A:  # 类对象\n",
    "    # 静态属性部分\n",
    "    name, age = \"Make\", 12  # 静态属性，类属性，在__init__外部定义\n",
    "    __gender = \"boy\"  # 私有静态属性\n",
    "    \n",
    "    # 动态方法部分\n",
    "    def __init__(self, name, age):  # 双下划线方法（内置方法）\n",
    "        self.name = name  # 对象属性，实例属性，在__init__内部定义\n",
    "        self.__age = age  # 私有对象属性\n",
    "        \n",
    "    def __func(self):  # 私有方法\n",
    "        pass\n",
    "    \n",
    "    def func(self):  # 普通方法，实例方法，调用了实例属性\n",
    "        pass\n",
    "    \n",
    "    @classmethod\n",
    "    def classfunc(cls)  # 类方法，只访问类变量\n",
    "    \tpass\n",
    "    \n",
    "    @staticmethod\n",
    "    def staticfunc()  # 静态方法，即不能访问类变量，也不能访问成员变量\n",
    "    \tpass\n",
    "    \n",
    "    @property\n",
    "    def propfunc(self):  # 属性\n",
    "        pass\n",
    "\n",
    "if __name__ == \"__main__\":\n",
    "    stu1 = A(\"lihua\", 20)  # 通过类创建的对象称为实例对象\n",
    "    stu1.func()\n",
    "    stu2 = Car(\"dak\", 40)\n",
    "    stu2.func()\n",
    "    A.classfunc()  # 调用类方法\n",
    "    A.staticfunc()  # 调用静态方法\n"
   ]
  }
 ],
 "metadata": {
  "language_info": {
   "name": "python"
  },
  "orig_nbformat": 4
 },
 "nbformat": 4,
 "nbformat_minor": 2
}
