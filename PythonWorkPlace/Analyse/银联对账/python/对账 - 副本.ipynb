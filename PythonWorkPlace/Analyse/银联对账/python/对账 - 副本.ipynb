{
 "cells": [
  {
   "cell_type": "code",
   "execution_count": 1,
   "id": "5670e092",
   "metadata": {},
   "outputs": [],
   "source": [
    "import pandas as pd\n",
    "import os\n",
    "import pymysql\n",
    "from sqlalchemy import create_engine\n",
    "from urllib import parse"
   ]
  },
  {
   "cell_type": "code",
   "execution_count": 2,
   "id": "033f1b20",
   "metadata": {},
   "outputs": [],
   "source": [
    "#查看所有行列\n",
    "# pd.set_option('display.max_columns', None)\n",
    "# pd.set_option('display.max_rows', None)\n"
   ]
  },
  {
   "cell_type": "code",
   "execution_count": 3,
   "id": "b5ad4126",
   "metadata": {},
   "outputs": [],
   "source": [
    "#路径设置\n",
    "#银联返回表路径\n",
    "UnionPayData_Folder=  r\"..\\1、银联返回表\"\n",
    "#管理端导出路径\n",
    "SystemData_Folder=  r\"..\\2、管理端导出表\"\n",
    "#退款表路径\n",
    "refundData_Folder=  r\"..\\3、退款输出表\""
   ]
  },
  {
   "cell_type": "code",
   "execution_count": 4,
   "id": "bd18151e",
   "metadata": {},
   "outputs": [],
   "source": [
    "#合并csv文件函数\n",
    "def File_merge_csv(Folder):  #Folder文件夹路径\n",
    "    try:\n",
    "        File_List = []  #存储文件夹下所有文件的路径\n",
    "        DataFrame_List = []  #存储dataframe\n",
    "        for root,dirs,files in os.walk(Folder):\n",
    "            for file in files:\n",
    "                file_with_path = os.path.join(root,file)\n",
    "                File_List.append(file_with_path)\n",
    "                data_original = pd.read_csv(file_with_path,names=[\"A\"])\n",
    "                DataFrame_List.append(data_original)\n",
    "        datas = pd.concat(DataFrame_List,axis=0)\n",
    "        return datas\n",
    "    except  Exception as e: \n",
    "        print(e)\n",
    "\n",
    "#合并excel文件函数\n",
    "def File_merge_excel(Folder):  #Folder文件夹路径\n",
    "    try:\n",
    "        File_List = []  #存储文件夹下所有文件的路径\n",
    "        DataFrame_List = []  #存储dataframe\n",
    "        for root,dirs,files in os.walk(Folder):\n",
    "            for file in files:\n",
    "                file_with_path = os.path.join(root,file)\n",
    "                File_List.append(file_with_path)\n",
    "                data = pd.read_excel(file_with_path)\n",
    "                DataFrame_List.append(data)\n",
    "        datas = pd.concat(DataFrame_List,axis=0)\n",
    "        return datas\n",
    "    except  Exception as e: \n",
    "        print(e)"
   ]
  },
  {
   "cell_type": "code",
   "execution_count": 9,
   "id": "45795225",
   "metadata": {},
   "outputs": [],
   "source": [
    "#读取银联表格和管理端表格\n",
    "UnionPayData = File_merge_csv(UnionPayData_Folder)\n",
    "SystemData = File_merge_excel(SystemData_Folder)\n",
    "refundData = File_merge_excel(refundData_Folder)"
   ]
  },
  {
   "cell_type": "code",
   "execution_count": 6,
   "id": "d7f8f076",
   "metadata": {},
   "outputs": [],
   "source": [
    "#数据清洗\n",
    "\n",
    "#银联表数据清理\n",
    "#银联表格分列\n",
    "UnionPayData=UnionPayData.iloc[:,0].str.split(\"|\",expand=True)\n",
    "#银联表格列重命名\n",
    "UnionPayData.columns = [\"渠道商APPKEY\",\"下单时间\",\"支付单号\",\"渠道商订单号\",\"渠道商订单状态\",\"支付金额\",\"订单金额\",\"充值账号\",\"产品类型\",\"运营商\",\"卡性质\",\"清算金额\",\"行业商户代码\",\"收单机构标识码\",\"发送机构标识码\",\"系统跟踪号\",\"交易传输时间\"]\n",
    "#银联表格删除空值行\n",
    "UnionPayData.dropna(axis=0,subset=['交易传输时间'],inplace=True)\n",
    "#重置索引\n",
    "UnionPayData = UnionPayData.reset_index(drop = True)\n",
    "\n",
    "\n",
    "#管理端表格数据清洗\n",
    "SystemData.replace(\"\\t\",\"\",regex=True,inplace=True)\n",
    "SystemData = SystemData.rename(columns=lambda x: x.replace(\"\",\"\").replace('\\t',''))\n",
    "#重置索引\n",
    "SystemData = SystemData.reset_index(drop = True)\n",
    "\n",
    "#已退款订单数据清洗\n",
    "refundData = refundData['渠道商订单号']\n",
    "#重置索引\n",
    "refundData = refundData.reset_index(drop = True)\n"
   ]
  },
  {
   "cell_type": "code",
   "execution_count": 7,
   "id": "c0b64594",
   "metadata": {},
   "outputs": [],
   "source": [
    "#sqlalchemy方式插入数据库\n",
    "class SqlControl:\n",
    "    def __init__(self,table,dataframe):\n",
    "\n",
    "        self.host = '192.168.1.5'\n",
    "        self.user = \"root\"\n",
    "        self.port = \"3306\"\n",
    "        self.db=\"unionpay\"\n",
    "        self.password = parse.quote_plus(\"yuhuyi94520@\")\n",
    "        self.tb = table\n",
    "        self.df = dataframe\n",
    "        self.port='3306'\n",
    "        conn = create_engine('mysql+pymysql://'+self.user+':'+self.password+'@'+self.host+':'+self.port+'/'+self.db+'?charset=utf8mb4')\n",
    "        dataframe.to_sql(self.tb, con=conn, if_exists='append',index=False)"
   ]
  },
  {
   "cell_type": "code",
   "execution_count": null,
   "id": "4d9018ed",
   "metadata": {},
   "outputs": [],
   "source": [
    "#同步至数据库\n",
    "SqlControl(\"uniondata\",UnionPayData)\n",
    "SqlControl(\"systemdata\",SystemData)\n",
    "SqlControl(\"refunddata\",refundData)"
   ]
  },
  {
   "cell_type": "code",
   "execution_count": null,
   "id": "f38df0da",
   "metadata": {},
   "outputs": [],
   "source": [
    "# class Sql:\n",
    "#     def __init__(self):#初始化进行连接和游标的创建\n",
    "#         self.conn = pymysql.connect(host='localhost',user='root',password='yuhuyi94520@',port=3306,database='unionpay',charset='utf8')\n",
    "#         self.cursor  = self.conn.cursor()\n",
    "#         print(\"连接数据库成功\")\n",
    "\n",
    "\n",
    "#     def SqlAdd(self):#增加\n",
    "\n",
    "#         SqlStatement='insert into uniondata \\\n",
    "#             (Channel_provider_APPKEY\",\"Order_time\",\"Payment_order_number\",\"Channel_Merchant_Order_Number\",\"Channel_Merchant_Order_Status\",\\\n",
    "#                         \"Payment_amount\",\"Order_amount\",\"Recharge_account\",\"product_type\",\"Operator\",\"Card_nature\",\"Liquidation_amount\",\"Industry_Merchant_Code\",\\\n",
    "#                             \"Acquirer_institution_Identification\",\"Sending_institution_identification_code\",\"System_tracking_number\",\"Transaction_transmission_time\") \\\n",
    "#                 values(%s,%s,%s,%s,%s,%s,%s,%s,%s,%s,%s,%s,%s,%s,%s,%s,%s)'\n",
    "\n",
    "#         for i in range(len)\n",
    "        \n",
    "\n",
    "#     def SqlDelete(self):#删除\n",
    "#         pass\n",
    "\n",
    "#     def SqlModify(self):#修改\n",
    "#         pass\n",
    "\n",
    "#     def SqlQuery(self):#查询\n",
    "#         pass\n",
    "\n",
    "#     def __del__(self):#关闭连接\n",
    "#         self.cursor.close()\n",
    "#         self.conn.close()\n",
    "#         print('关闭数据库连接')\n",
    "\n",
    "\n",
    "    \n"
   ]
  },
  {
   "cell_type": "code",
   "execution_count": null,
   "id": "a3fa929d",
   "metadata": {},
   "outputs": [],
   "source": []
  }
 ],
 "metadata": {
  "kernelspec": {
   "display_name": "Python 3 (ipykernel)",
   "language": "python",
   "name": "python3"
  },
  "language_info": {
   "codemirror_mode": {
    "name": "ipython",
    "version": 3
   },
   "file_extension": ".py",
   "mimetype": "text/x-python",
   "name": "python",
   "nbconvert_exporter": "python",
   "pygments_lexer": "ipython3",
   "version": "3.9.9"
  }
 },
 "nbformat": 4,
 "nbformat_minor": 5
}
