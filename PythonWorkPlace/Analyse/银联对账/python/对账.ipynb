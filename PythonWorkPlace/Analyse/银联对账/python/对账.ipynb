{
 "cells": [
  {
   "cell_type": "code",
   "execution_count": 1,
   "id": "5670e092",
   "metadata": {},
   "outputs": [],
   "source": [
    "import pandas as pd\n",
    "import os"
   ]
  },
  {
   "cell_type": "code",
   "execution_count": 2,
   "id": "b5ad4126",
   "metadata": {},
   "outputs": [],
   "source": [
    "#路径设置\n",
    "#银联返回表路径\n",
    "UnionPayData_Folder=  r\"..\\1、银联返回表\"\n",
    "#管理端导出路径\n",
    "SystemData_Folder=  r\"..\\2、管理端导出表\""
   ]
  },
  {
   "cell_type": "code",
   "execution_count": 3,
   "id": "bd18151e",
   "metadata": {},
   "outputs": [],
   "source": [
    "#合并csv文件函数\n",
    "def File_merge_csv(Folder):  #Folder文件夹路径\n",
    "    File_List = []  #存储文件夹下所有文件的路径\n",
    "    DataFrame_List = []  #存储dataframe\n",
    "    for root,dirs,files in os.walk(Folder):\n",
    "        for file in files:\n",
    "            file_with_path = os.path.join(root,file)\n",
    "            File_List.append(file_with_path)\n",
    "            data_original = pd.read_csv(file_with_path,names=[\"A\"])\n",
    "            DataFrame_List.append(data_original)\n",
    "    datas = pd.concat(DataFrame_List,axis=0)\n",
    "    return datas\n",
    "\n",
    "\n",
    "#合并excel文件函数\n",
    "def File_merge_excel(Folder):  #Folder文件夹路径\n",
    "    File_List = []  #存储文件夹下所有文件的路径\n",
    "    DataFrame_List = []  #存储dataframe\n",
    "    for root,dirs,files in os.walk(Folder):\n",
    "        for file in files:\n",
    "            file_with_path = os.path.join(root,file)\n",
    "            File_List.append(file_with_path)\n",
    "            data = pd.read_excel(file_with_path)\n",
    "            DataFrame_List.append(data)\n",
    "    datas = pd.concat(DataFrame_List,axis=0)\n",
    "    return datas"
   ]
  },
  {
   "cell_type": "code",
   "execution_count": 4,
   "id": "45795225",
   "metadata": {},
   "outputs": [],
   "source": [
    "#读取银联表格和管理端表格\n",
    "UnionPayData = File_merge_csv(UnionPayData_Folder)\n",
    "SystemData = File_merge_excel(SystemData_Folder)"
   ]
  },
  {
   "cell_type": "code",
   "execution_count": 5,
   "id": "d7f8f076",
   "metadata": {},
   "outputs": [],
   "source": [
    "#银联表数据清理\n",
    "#银联表格分列\n",
    "UnionPayData=UnionPayData.iloc[:,0].str.split(\"|\",expand=True)\n"
   ]
  },
  {
   "cell_type": "code",
   "execution_count": 6,
   "id": "2e423789",
   "metadata": {},
   "outputs": [],
   "source": [
    "#银联表格列重命名\n",
    "UnionPayData.columns = [\"渠道商APPKEY\",\"下单时间\",\"支付单号\",\"渠道商订单号\",\"渠道商订单状态\",\"支付金额\",\"订单金额\",\"充值账号\",\"产品类型\",\"运营商\",\"卡性质\",\"清算金额\",\"行业商户代码\",\"收单机构标识码\",\"发送机构标识码\",\"系统跟踪号\",\"交易传输时间\"]\n",
    "#银联表格删除空值行\n",
    "UnionPayData.dropna(axis=0,subset=['交易传输时间'],inplace=True)\n",
    "#银联表格列筛选\n",
    "#UnionPayData = UnionPayData.loc[:,['支付单号','支付金额','订单金额','充值账号','卡性质','清算金额']]\n",
    "#管理端表格数据清洗\n",
    "SystemData.replace(\"\\t\",\"\",regex=True,inplace=True)\n",
    "SystemData = SystemData.rename(columns=lambda x: x.replace(\"\",\"\").replace('\\t',''))\n"
   ]
  },
  {
   "cell_type": "code",
   "execution_count": 7,
   "id": "fc06ab93",
   "metadata": {},
   "outputs": [],
   "source": [
    "#合并文件数据（并集合并）\n",
    "Outer_Data = pd.merge(UnionPayData,SystemData,left_on=\"支付单号\",right_on=\"定单号\",how=\"outer\")"
   ]
  },
  {
   "cell_type": "code",
   "execution_count": 8,
   "id": "df664174",
   "metadata": {},
   "outputs": [],
   "source": [
    "inner_Data = pd.merge(UnionPayData,SystemData,left_on=\"支付单号\",right_on=\"定单号\",how=\"inner\")"
   ]
  },
  {
   "cell_type": "code",
   "execution_count": 9,
   "id": "8f26419d",
   "metadata": {},
   "outputs": [
    {
     "name": "stderr",
     "output_type": "stream",
     "text": [
      "C:\\Users\\yuhuyi\\AppData\\Local\\Temp\\ipykernel_3724\\2868406986.py:3: SettingWithCopyWarning: \n",
      "A value is trying to be set on a copy of a slice from a DataFrame\n",
      "\n",
      "See the caveats in the documentation: https://pandas.pydata.org/pandas-docs/stable/user_guide/indexing.html#returning-a-view-versus-a-copy\n",
      "  UnionPay_outerput.fillna(\"/\",inplace=True)\n"
     ]
    }
   ],
   "source": [
    "#支付单号为空为系统有记录订单，属于银联多结算账单\n",
    "UnionPay_outerput = Outer_Data[Outer_Data['支付单号'].isnull()]\n",
    "UnionPay_outerput.fillna(\"/\",inplace=True)\n",
    "UnionPay_outerput.to_excel(r'..\\3、结果\\银联【未】结算账单.xlsx', index=False)"
   ]
  },
  {
   "cell_type": "code",
   "execution_count": 10,
   "id": "078b7905",
   "metadata": {},
   "outputs": [
    {
     "name": "stderr",
     "output_type": "stream",
     "text": [
      "C:\\Users\\yuhuyi\\AppData\\Local\\Temp\\ipykernel_3724\\3606166807.py:3: SettingWithCopyWarning: \n",
      "A value is trying to be set on a copy of a slice from a DataFrame\n",
      "\n",
      "See the caveats in the documentation: https://pandas.pydata.org/pandas-docs/stable/user_guide/indexing.html#returning-a-view-versus-a-copy\n",
      "  System_outerput.fillna(\"/\",inplace=True)\n"
     ]
    }
   ],
   "source": [
    "#定单号为空为系统无记录订单，属于银联多结算账单\n",
    "System_outerput = Outer_Data[Outer_Data['定单号'].isnull()]\n",
    "System_outerput.fillna(\"/\",inplace=True)\n",
    "System_outerput.to_excel(r'..\\3、结果\\银联【多】结算账单.xlsx', index=False)"
   ]
  },
  {
   "cell_type": "code",
   "execution_count": 11,
   "id": "51d648d6",
   "metadata": {},
   "outputs": [],
   "source": [
    "#总数合计校验"
   ]
  },
  {
   "cell_type": "code",
   "execution_count": null,
   "id": "8a7edb49",
   "metadata": {},
   "outputs": [],
   "source": []
  },
  {
   "cell_type": "code",
   "execution_count": null,
   "id": "bedffc62",
   "metadata": {},
   "outputs": [],
   "source": []
  }
 ],
 "metadata": {
  "kernelspec": {
   "display_name": "Python 3 (ipykernel)",
   "language": "python",
   "name": "python3"
  },
  "language_info": {
   "codemirror_mode": {
    "name": "ipython",
    "version": 3
   },
   "file_extension": ".py",
   "mimetype": "text/x-python",
   "name": "python",
   "nbconvert_exporter": "python",
   "pygments_lexer": "ipython3",
   "version": "3.9.9"
  }
 },
 "nbformat": 4,
 "nbformat_minor": 5
}
