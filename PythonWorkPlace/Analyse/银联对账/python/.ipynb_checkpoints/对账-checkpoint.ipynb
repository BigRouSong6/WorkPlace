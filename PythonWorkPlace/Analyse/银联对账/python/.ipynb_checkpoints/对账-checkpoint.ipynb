{
 "cells": [
  {
   "cell_type": "code",
   "execution_count": 1,
   "id": "5670e092",
   "metadata": {},
   "outputs": [],
   "source": [
    "import pandas as pd"
   ]
  },
  {
   "cell_type": "code",
   "execution_count": 2,
   "id": "d7f8f076",
   "metadata": {},
   "outputs": [],
   "source": [
    "UnionPayData= pd.read_csv(r\"C:\\Users\\yuhuyi\\Desktop\\银联对账\\1、银联返回表\\shuoruan_M0001143_20230530.csv\")"
   ]
  },
  {
   "cell_type": "code",
   "execution_count": 3,
   "id": "ec316fc0",
   "metadata": {},
   "outputs": [
    {
     "data": {
      "text/html": [
       "<div>\n",
       "<style scoped>\n",
       "    .dataframe tbody tr th:only-of-type {\n",
       "        vertical-align: middle;\n",
       "    }\n",
       "\n",
       "    .dataframe tbody tr th {\n",
       "        vertical-align: top;\n",
       "    }\n",
       "\n",
       "    .dataframe thead th {\n",
       "        text-align: right;\n",
       "    }\n",
       "</style>\n",
       "<table border=\"1\" class=\"dataframe\">\n",
       "  <thead>\n",
       "    <tr style=\"text-align: right;\">\n",
       "      <th></th>\n",
       "      <th>20000|2|</th>\n",
       "    </tr>\n",
       "  </thead>\n",
       "  <tbody>\n",
       "    <tr>\n",
       "      <th>0</th>\n",
       "      <td>90010|20230530154533|202305301545339411430|202...</td>\n",
       "    </tr>\n",
       "    <tr>\n",
       "      <th>1</th>\n",
       "      <td>90010|20230530154106|202305301541069372930|202...</td>\n",
       "    </tr>\n",
       "  </tbody>\n",
       "</table>\n",
       "</div>"
      ],
      "text/plain": [
       "                                            20000|2|\n",
       "0  90010|20230530154533|202305301545339411430|202...\n",
       "1  90010|20230530154106|202305301541069372930|202..."
      ]
     },
     "execution_count": 3,
     "metadata": {},
     "output_type": "execute_result"
    }
   ],
   "source": [
    "UnionPayData"
   ]
  },
  {
   "cell_type": "code",
   "execution_count": 7,
   "id": "bf96eda4",
   "metadata": {},
   "outputs": [],
   "source": [
    "UnionPayData=UnionPayData.iloc[:,0].str.split(\"|\",expand=True)"
   ]
  },
  {
   "cell_type": "code",
   "execution_count": 8,
   "id": "e6fdda79",
   "metadata": {},
   "outputs": [
    {
     "data": {
      "text/html": [
       "<div>\n",
       "<style scoped>\n",
       "    .dataframe tbody tr th:only-of-type {\n",
       "        vertical-align: middle;\n",
       "    }\n",
       "\n",
       "    .dataframe tbody tr th {\n",
       "        vertical-align: top;\n",
       "    }\n",
       "\n",
       "    .dataframe thead th {\n",
       "        text-align: right;\n",
       "    }\n",
       "</style>\n",
       "<table border=\"1\" class=\"dataframe\">\n",
       "  <thead>\n",
       "    <tr style=\"text-align: right;\">\n",
       "      <th></th>\n",
       "      <th>0</th>\n",
       "      <th>1</th>\n",
       "      <th>2</th>\n",
       "      <th>3</th>\n",
       "      <th>4</th>\n",
       "      <th>5</th>\n",
       "      <th>6</th>\n",
       "      <th>7</th>\n",
       "      <th>8</th>\n",
       "      <th>9</th>\n",
       "      <th>10</th>\n",
       "      <th>11</th>\n",
       "      <th>12</th>\n",
       "      <th>13</th>\n",
       "      <th>14</th>\n",
       "      <th>15</th>\n",
       "      <th>16</th>\n",
       "    </tr>\n",
       "  </thead>\n",
       "  <tbody>\n",
       "    <tr>\n",
       "      <th>0</th>\n",
       "      <td>90010</td>\n",
       "      <td>20230530154533</td>\n",
       "      <td>202305301545339411430</td>\n",
       "      <td>202305301545339411430</td>\n",
       "      <td>4</td>\n",
       "      <td>10000</td>\n",
       "      <td>10000</td>\n",
       "      <td>19154945014</td>\n",
       "      <td>1</td>\n",
       "      <td>0</td>\n",
       "      <td>01</td>\n",
       "      <td>10000</td>\n",
       "      <td>048980000049994</td>\n",
       "      <td>48995500</td>\n",
       "      <td>00049993</td>\n",
       "      <td>627863</td>\n",
       "      <td>0530154533</td>\n",
       "    </tr>\n",
       "    <tr>\n",
       "      <th>1</th>\n",
       "      <td>90010</td>\n",
       "      <td>20230530154106</td>\n",
       "      <td>202305301541069372930</td>\n",
       "      <td>202305301541069372930</td>\n",
       "      <td>4</td>\n",
       "      <td>10000</td>\n",
       "      <td>10000</td>\n",
       "      <td>18026692130</td>\n",
       "      <td>1</td>\n",
       "      <td>0</td>\n",
       "      <td>02</td>\n",
       "      <td>10000</td>\n",
       "      <td>048980000049994</td>\n",
       "      <td>48995500</td>\n",
       "      <td>00049993</td>\n",
       "      <td>610113</td>\n",
       "      <td>0530154106</td>\n",
       "    </tr>\n",
       "  </tbody>\n",
       "</table>\n",
       "</div>"
      ],
      "text/plain": [
       "      0               1                      2                      3  4   \\\n",
       "0  90010  20230530154533  202305301545339411430  202305301545339411430  4   \n",
       "1  90010  20230530154106  202305301541069372930  202305301541069372930  4   \n",
       "\n",
       "      5      6            7  8  9   10     11               12        13  \\\n",
       "0  10000  10000  19154945014  1  0  01  10000  048980000049994  48995500   \n",
       "1  10000  10000  18026692130  1  0  02  10000  048980000049994  48995500   \n",
       "\n",
       "         14      15          16  \n",
       "0  00049993  627863  0530154533  \n",
       "1  00049993  610113  0530154106  "
      ]
     },
     "execution_count": 8,
     "metadata": {},
     "output_type": "execute_result"
    }
   ],
   "source": [
    "UnionPayData"
   ]
  },
  {
   "cell_type": "code",
   "execution_count": 9,
   "id": "203435b2",
   "metadata": {},
   "outputs": [],
   "source": [
    "UnionPayData.columns = [\"渠道商APPKEY\",\"下单时间\",\"支付单号\",\"渠道商订单号\",\"渠道商订单状态\",\"支付金额\",\"订单金额\",\"充值账号\",\"产品类型\",\"运营商\",\"卡性质\",\"清算金额\",\"行业商户代码\",\"收单机构标识码\",\"发送机构标识码\",\"系统跟踪号\",\"交易传输时间\"]"
   ]
  },
  {
   "cell_type": "code",
   "execution_count": 14,
   "id": "de9a69c5",
   "metadata": {},
   "outputs": [],
   "source": [
    "#UnionPayData"
   ]
  },
  {
   "cell_type": "code",
   "execution_count": 15,
   "id": "df664174",
   "metadata": {},
   "outputs": [],
   "source": [
    "UnionPayData = UnionPayData.loc[:,['支付单号','支付金额','订单金额','充值账号','卡性质','清算金额']]"
   ]
  },
  {
   "cell_type": "code",
   "execution_count": 16,
   "id": "280582c2",
   "metadata": {},
   "outputs": [
    {
     "data": {
      "text/html": [
       "<div>\n",
       "<style scoped>\n",
       "    .dataframe tbody tr th:only-of-type {\n",
       "        vertical-align: middle;\n",
       "    }\n",
       "\n",
       "    .dataframe tbody tr th {\n",
       "        vertical-align: top;\n",
       "    }\n",
       "\n",
       "    .dataframe thead th {\n",
       "        text-align: right;\n",
       "    }\n",
       "</style>\n",
       "<table border=\"1\" class=\"dataframe\">\n",
       "  <thead>\n",
       "    <tr style=\"text-align: right;\">\n",
       "      <th></th>\n",
       "      <th>支付单号</th>\n",
       "      <th>支付金额</th>\n",
       "      <th>订单金额</th>\n",
       "      <th>充值账号</th>\n",
       "      <th>卡性质</th>\n",
       "      <th>清算金额</th>\n",
       "    </tr>\n",
       "  </thead>\n",
       "  <tbody>\n",
       "    <tr>\n",
       "      <th>0</th>\n",
       "      <td>202305301545339411430</td>\n",
       "      <td>10000</td>\n",
       "      <td>10000</td>\n",
       "      <td>19154945014</td>\n",
       "      <td>01</td>\n",
       "      <td>10000</td>\n",
       "    </tr>\n",
       "    <tr>\n",
       "      <th>1</th>\n",
       "      <td>202305301541069372930</td>\n",
       "      <td>10000</td>\n",
       "      <td>10000</td>\n",
       "      <td>18026692130</td>\n",
       "      <td>02</td>\n",
       "      <td>10000</td>\n",
       "    </tr>\n",
       "  </tbody>\n",
       "</table>\n",
       "</div>"
      ],
      "text/plain": [
       "                    支付单号   支付金额   订单金额         充值账号 卡性质   清算金额\n",
       "0  202305301545339411430  10000  10000  19154945014  01  10000\n",
       "1  202305301541069372930  10000  10000  18026692130  02  10000"
      ]
     },
     "execution_count": 16,
     "metadata": {},
     "output_type": "execute_result"
    }
   ],
   "source": [
    "UnionPayData"
   ]
  },
  {
   "cell_type": "code",
   "execution_count": null,
   "id": "708c98fd",
   "metadata": {},
   "outputs": [],
   "source": []
  }
 ],
 "metadata": {
  "kernelspec": {
   "display_name": "Python 3 (ipykernel)",
   "language": "python",
   "name": "python3"
  },
  "language_info": {
   "codemirror_mode": {
    "name": "ipython",
    "version": 3
   },
   "file_extension": ".py",
   "mimetype": "text/x-python",
   "name": "python",
   "nbconvert_exporter": "python",
   "pygments_lexer": "ipython3",
   "version": "3.10.9"
  }
 },
 "nbformat": 4,
 "nbformat_minor": 5
}
