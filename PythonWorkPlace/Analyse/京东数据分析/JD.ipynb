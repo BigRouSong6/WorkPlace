{
 "cells": [
  {
   "cell_type": "code",
   "execution_count": 2,
   "metadata": {},
   "outputs": [],
   "source": [
    "import pandas as pd\n",
    "import re,os\n",
    "import numpy as np"
   ]
  },
  {
   "cell_type": "code",
   "execution_count": 3,
   "metadata": {},
   "outputs": [],
   "source": [
    "#合并CSV文件函数\n",
    "def File_merge_csv(Folder):\n",
    "    try:\n",
    "        File_list = []              #储存文件夹下所有文件的路径列表\n",
    "        Dataframe_list = []         #储存每个dataframe\n",
    "        for  root,dirs,files in os.walk(Folder):\n",
    "            for file in files:\n",
    "                file_with_path = os.path.join(root,file)    #文件路径\n",
    "                File_list.append(file_with_path)\n",
    "                data_original = pd.read_csv(file_with_path,names=['A'])\n",
    "                Dataframe_list.append(data_original)\n",
    "        datas = pd.concat(Dataframe_list,axis=0)\n",
    "        return datas\n",
    "    except Exception as e:\n",
    "        print('读取错误，错误为：{e}')"
   ]
  },
  {
   "cell_type": "code",
   "execution_count": null,
   "metadata": {},
   "outputs": [],
   "source": [
    "class DataCLean(object):\n",
    "    #类属性\n",
    "    def disaggregation(self):       #分列\n",
    "        pass\n",
    "        "
   ]
  }
 ],
 "metadata": {
  "kernelspec": {
   "display_name": "Python 3",
   "language": "python",
   "name": "python3"
  },
  "language_info": {
   "codemirror_mode": {
    "name": "ipython",
    "version": 3
   },
   "file_extension": ".py",
   "mimetype": "text/x-python",
   "name": "python",
   "nbconvert_exporter": "python",
   "pygments_lexer": "ipython3",
   "version": "3.11.3"
  }
 },
 "nbformat": 4,
 "nbformat_minor": 2
}
