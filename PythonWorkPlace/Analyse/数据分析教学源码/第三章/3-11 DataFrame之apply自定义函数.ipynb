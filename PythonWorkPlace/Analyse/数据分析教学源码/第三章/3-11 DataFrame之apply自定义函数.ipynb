{
 "cells": [
  {
   "cell_type": "code",
   "execution_count": 7,
   "metadata": {},
   "outputs": [],
   "source": [
    "import pandas as pd\n",
    "import numpy as np"
   ]
  },
  {
   "cell_type": "code",
   "execution_count": 2,
   "metadata": {},
   "outputs": [],
   "source": [
    "# apply 是 pandas 库的一个很重要的函数，可以直接用于 DataFrame和 Series 对象。\n",
    "# apply 主要用于数据聚合运算，和自定义函数的运算"
   ]
  },
  {
   "cell_type": "code",
   "execution_count": null,
   "metadata": {},
   "outputs": [],
   "source": []
  },
  {
   "cell_type": "code",
   "execution_count": 10,
   "metadata": {},
   "outputs": [],
   "source": [
    "df = pd.read_csv('apply.csv')"
   ]
  },
  {
   "cell_type": "code",
   "execution_count": 11,
   "metadata": {},
   "outputs": [
    {
     "data": {
      "text/html": [
       "<div>\n",
       "<style scoped>\n",
       "    .dataframe tbody tr th:only-of-type {\n",
       "        vertical-align: middle;\n",
       "    }\n",
       "\n",
       "    .dataframe tbody tr th {\n",
       "        vertical-align: top;\n",
       "    }\n",
       "\n",
       "    .dataframe thead th {\n",
       "        text-align: right;\n",
       "    }\n",
       "</style>\n",
       "<table border=\"1\" class=\"dataframe\">\n",
       "  <thead>\n",
       "    <tr style=\"text-align: right;\">\n",
       "      <th></th>\n",
       "      <th>name</th>\n",
       "      <th>nation</th>\n",
       "      <th>score</th>\n",
       "      <th>date_from</th>\n",
       "      <th>date_to</th>\n",
       "    </tr>\n",
       "  </thead>\n",
       "  <tbody>\n",
       "    <tr>\n",
       "      <th>0</th>\n",
       "      <td>张宇</td>\n",
       "      <td>汉族</td>\n",
       "      <td>600</td>\n",
       "      <td>2019-04-01</td>\n",
       "      <td>2019-04-10</td>\n",
       "    </tr>\n",
       "    <tr>\n",
       "      <th>1</th>\n",
       "      <td>陈林</td>\n",
       "      <td>汉族</td>\n",
       "      <td>650</td>\n",
       "      <td>2019-05-20</td>\n",
       "      <td>2019-05-31</td>\n",
       "    </tr>\n",
       "    <tr>\n",
       "      <th>2</th>\n",
       "      <td>刘冬</td>\n",
       "      <td>回族</td>\n",
       "      <td>560</td>\n",
       "      <td>2019-05-01</td>\n",
       "      <td>2019-05-02</td>\n",
       "    </tr>\n",
       "  </tbody>\n",
       "</table>\n",
       "</div>"
      ],
      "text/plain": [
       "  name nation  score   date_from     date_to\n",
       "0   张宇     汉族    600  2019-04-01  2019-04-10\n",
       "1   陈林     汉族    650  2019-05-20  2019-05-31\n",
       "2   刘冬     回族    560  2019-05-01  2019-05-02"
      ]
     },
     "execution_count": 11,
     "metadata": {},
     "output_type": "execute_result"
    }
   ],
   "source": [
    "df"
   ]
  },
  {
   "cell_type": "code",
   "execution_count": null,
   "metadata": {},
   "outputs": [],
   "source": []
  },
  {
   "cell_type": "code",
   "execution_count": 87,
   "metadata": {},
   "outputs": [],
   "source": [
    "# 数据聚合运算\n",
    "# 对 score 开根号\n",
    "# np.sqrt"
   ]
  },
  {
   "cell_type": "code",
   "execution_count": 12,
   "metadata": {},
   "outputs": [
    {
     "data": {
      "text/plain": [
       "0    24.494897\n",
       "1    25.495098\n",
       "2    23.664319\n",
       "Name: score, dtype: float64"
      ]
     },
     "execution_count": 12,
     "metadata": {},
     "output_type": "execute_result"
    }
   ],
   "source": [
    "df.score.apply(np.sqrt)"
   ]
  },
  {
   "cell_type": "code",
   "execution_count": null,
   "metadata": {},
   "outputs": [],
   "source": []
  },
  {
   "cell_type": "code",
   "execution_count": null,
   "metadata": {},
   "outputs": [],
   "source": []
  },
  {
   "cell_type": "code",
   "execution_count": 15,
   "metadata": {},
   "outputs": [
    {
     "data": {
      "text/html": [
       "<div>\n",
       "<style scoped>\n",
       "    .dataframe tbody tr th:only-of-type {\n",
       "        vertical-align: middle;\n",
       "    }\n",
       "\n",
       "    .dataframe tbody tr th {\n",
       "        vertical-align: top;\n",
       "    }\n",
       "\n",
       "    .dataframe thead th {\n",
       "        text-align: right;\n",
       "    }\n",
       "</style>\n",
       "<table border=\"1\" class=\"dataframe\">\n",
       "  <thead>\n",
       "    <tr style=\"text-align: right;\">\n",
       "      <th></th>\n",
       "      <th>name</th>\n",
       "      <th>nation</th>\n",
       "      <th>score</th>\n",
       "      <th>date_from</th>\n",
       "      <th>date_to</th>\n",
       "    </tr>\n",
       "  </thead>\n",
       "  <tbody>\n",
       "    <tr>\n",
       "      <th>0</th>\n",
       "      <td>张宇</td>\n",
       "      <td>汉族</td>\n",
       "      <td>600</td>\n",
       "      <td>2019-04-01</td>\n",
       "      <td>2019-04-10</td>\n",
       "    </tr>\n",
       "    <tr>\n",
       "      <th>1</th>\n",
       "      <td>陈林</td>\n",
       "      <td>汉族</td>\n",
       "      <td>650</td>\n",
       "      <td>2019-05-20</td>\n",
       "      <td>2019-05-31</td>\n",
       "    </tr>\n",
       "    <tr>\n",
       "      <th>2</th>\n",
       "      <td>刘冬</td>\n",
       "      <td>回族</td>\n",
       "      <td>560</td>\n",
       "      <td>2019-05-01</td>\n",
       "      <td>2019-05-02</td>\n",
       "    </tr>\n",
       "  </tbody>\n",
       "</table>\n",
       "</div>"
      ],
      "text/plain": [
       "  name nation  score   date_from     date_to\n",
       "0   张宇     汉族    600  2019-04-01  2019-04-10\n",
       "1   陈林     汉族    650  2019-05-20  2019-05-31\n",
       "2   刘冬     回族    560  2019-05-01  2019-05-02"
      ]
     },
     "execution_count": 15,
     "metadata": {},
     "output_type": "execute_result"
    }
   ],
   "source": [
    "df"
   ]
  },
  {
   "cell_type": "code",
   "execution_count": 90,
   "metadata": {},
   "outputs": [],
   "source": [
    "# 如果民族不是汉族，则总分在考试分数上再加 10 分"
   ]
  },
  {
   "cell_type": "code",
   "execution_count": 17,
   "metadata": {},
   "outputs": [],
   "source": [
    "df['other_score']  = df.nation.apply(lambda x: 0 if x == '汉族' else 10)"
   ]
  },
  {
   "cell_type": "code",
   "execution_count": 18,
   "metadata": {},
   "outputs": [
    {
     "data": {
      "text/html": [
       "<div>\n",
       "<style scoped>\n",
       "    .dataframe tbody tr th:only-of-type {\n",
       "        vertical-align: middle;\n",
       "    }\n",
       "\n",
       "    .dataframe tbody tr th {\n",
       "        vertical-align: top;\n",
       "    }\n",
       "\n",
       "    .dataframe thead th {\n",
       "        text-align: right;\n",
       "    }\n",
       "</style>\n",
       "<table border=\"1\" class=\"dataframe\">\n",
       "  <thead>\n",
       "    <tr style=\"text-align: right;\">\n",
       "      <th></th>\n",
       "      <th>name</th>\n",
       "      <th>nation</th>\n",
       "      <th>score</th>\n",
       "      <th>date_from</th>\n",
       "      <th>date_to</th>\n",
       "      <th>other_score</th>\n",
       "    </tr>\n",
       "  </thead>\n",
       "  <tbody>\n",
       "    <tr>\n",
       "      <th>0</th>\n",
       "      <td>张宇</td>\n",
       "      <td>汉族</td>\n",
       "      <td>600</td>\n",
       "      <td>2019-04-01</td>\n",
       "      <td>2019-04-10</td>\n",
       "      <td>0</td>\n",
       "    </tr>\n",
       "    <tr>\n",
       "      <th>1</th>\n",
       "      <td>陈林</td>\n",
       "      <td>汉族</td>\n",
       "      <td>650</td>\n",
       "      <td>2019-05-20</td>\n",
       "      <td>2019-05-31</td>\n",
       "      <td>0</td>\n",
       "    </tr>\n",
       "    <tr>\n",
       "      <th>2</th>\n",
       "      <td>刘冬</td>\n",
       "      <td>回族</td>\n",
       "      <td>560</td>\n",
       "      <td>2019-05-01</td>\n",
       "      <td>2019-05-02</td>\n",
       "      <td>10</td>\n",
       "    </tr>\n",
       "  </tbody>\n",
       "</table>\n",
       "</div>"
      ],
      "text/plain": [
       "  name nation  score   date_from     date_to  other_score\n",
       "0   张宇     汉族    600  2019-04-01  2019-04-10            0\n",
       "1   陈林     汉族    650  2019-05-20  2019-05-31            0\n",
       "2   刘冬     回族    560  2019-05-01  2019-05-02           10"
      ]
     },
     "execution_count": 18,
     "metadata": {},
     "output_type": "execute_result"
    }
   ],
   "source": [
    "df"
   ]
  },
  {
   "cell_type": "code",
   "execution_count": 19,
   "metadata": {},
   "outputs": [],
   "source": [
    "df['total_score'] = df.score + df.other_score"
   ]
  },
  {
   "cell_type": "code",
   "execution_count": 20,
   "metadata": {},
   "outputs": [
    {
     "data": {
      "text/html": [
       "<div>\n",
       "<style scoped>\n",
       "    .dataframe tbody tr th:only-of-type {\n",
       "        vertical-align: middle;\n",
       "    }\n",
       "\n",
       "    .dataframe tbody tr th {\n",
       "        vertical-align: top;\n",
       "    }\n",
       "\n",
       "    .dataframe thead th {\n",
       "        text-align: right;\n",
       "    }\n",
       "</style>\n",
       "<table border=\"1\" class=\"dataframe\">\n",
       "  <thead>\n",
       "    <tr style=\"text-align: right;\">\n",
       "      <th></th>\n",
       "      <th>name</th>\n",
       "      <th>nation</th>\n",
       "      <th>score</th>\n",
       "      <th>date_from</th>\n",
       "      <th>date_to</th>\n",
       "      <th>other_score</th>\n",
       "      <th>total_score</th>\n",
       "    </tr>\n",
       "  </thead>\n",
       "  <tbody>\n",
       "    <tr>\n",
       "      <th>0</th>\n",
       "      <td>张宇</td>\n",
       "      <td>汉族</td>\n",
       "      <td>600</td>\n",
       "      <td>2019-04-01</td>\n",
       "      <td>2019-04-10</td>\n",
       "      <td>0</td>\n",
       "      <td>600</td>\n",
       "    </tr>\n",
       "    <tr>\n",
       "      <th>1</th>\n",
       "      <td>陈林</td>\n",
       "      <td>汉族</td>\n",
       "      <td>650</td>\n",
       "      <td>2019-05-20</td>\n",
       "      <td>2019-05-31</td>\n",
       "      <td>0</td>\n",
       "      <td>650</td>\n",
       "    </tr>\n",
       "    <tr>\n",
       "      <th>2</th>\n",
       "      <td>刘冬</td>\n",
       "      <td>回族</td>\n",
       "      <td>560</td>\n",
       "      <td>2019-05-01</td>\n",
       "      <td>2019-05-02</td>\n",
       "      <td>10</td>\n",
       "      <td>570</td>\n",
       "    </tr>\n",
       "  </tbody>\n",
       "</table>\n",
       "</div>"
      ],
      "text/plain": [
       "  name nation  score   date_from     date_to  other_score  total_score\n",
       "0   张宇     汉族    600  2019-04-01  2019-04-10            0          600\n",
       "1   陈林     汉族    650  2019-05-20  2019-05-31            0          650\n",
       "2   刘冬     回族    560  2019-05-01  2019-05-02           10          570"
      ]
     },
     "execution_count": 20,
     "metadata": {},
     "output_type": "execute_result"
    }
   ],
   "source": [
    "df"
   ]
  },
  {
   "cell_type": "code",
   "execution_count": null,
   "metadata": {},
   "outputs": [],
   "source": []
  },
  {
   "cell_type": "code",
   "execution_count": 95,
   "metadata": {},
   "outputs": [],
   "source": [
    "# 计算时间间隔\n",
    "# apply(pd.to_datetime)\n",
    "# x.days"
   ]
  },
  {
   "cell_type": "code",
   "execution_count": 22,
   "metadata": {},
   "outputs": [],
   "source": [
    "df['interval'] =  df.date_to.apply(pd.to_datetime) - df.date_from.apply(pd.to_datetime)"
   ]
  },
  {
   "cell_type": "code",
   "execution_count": 23,
   "metadata": {},
   "outputs": [
    {
     "data": {
      "text/html": [
       "<div>\n",
       "<style scoped>\n",
       "    .dataframe tbody tr th:only-of-type {\n",
       "        vertical-align: middle;\n",
       "    }\n",
       "\n",
       "    .dataframe tbody tr th {\n",
       "        vertical-align: top;\n",
       "    }\n",
       "\n",
       "    .dataframe thead th {\n",
       "        text-align: right;\n",
       "    }\n",
       "</style>\n",
       "<table border=\"1\" class=\"dataframe\">\n",
       "  <thead>\n",
       "    <tr style=\"text-align: right;\">\n",
       "      <th></th>\n",
       "      <th>name</th>\n",
       "      <th>nation</th>\n",
       "      <th>score</th>\n",
       "      <th>date_from</th>\n",
       "      <th>date_to</th>\n",
       "      <th>other_score</th>\n",
       "      <th>total_score</th>\n",
       "      <th>interval</th>\n",
       "    </tr>\n",
       "  </thead>\n",
       "  <tbody>\n",
       "    <tr>\n",
       "      <th>0</th>\n",
       "      <td>张宇</td>\n",
       "      <td>汉族</td>\n",
       "      <td>600</td>\n",
       "      <td>2019-04-01</td>\n",
       "      <td>2019-04-10</td>\n",
       "      <td>0</td>\n",
       "      <td>600</td>\n",
       "      <td>9 days</td>\n",
       "    </tr>\n",
       "    <tr>\n",
       "      <th>1</th>\n",
       "      <td>陈林</td>\n",
       "      <td>汉族</td>\n",
       "      <td>650</td>\n",
       "      <td>2019-05-20</td>\n",
       "      <td>2019-05-31</td>\n",
       "      <td>0</td>\n",
       "      <td>650</td>\n",
       "      <td>11 days</td>\n",
       "    </tr>\n",
       "    <tr>\n",
       "      <th>2</th>\n",
       "      <td>刘冬</td>\n",
       "      <td>回族</td>\n",
       "      <td>560</td>\n",
       "      <td>2019-05-01</td>\n",
       "      <td>2019-05-02</td>\n",
       "      <td>10</td>\n",
       "      <td>570</td>\n",
       "      <td>1 days</td>\n",
       "    </tr>\n",
       "  </tbody>\n",
       "</table>\n",
       "</div>"
      ],
      "text/plain": [
       "  name nation  score   date_from     date_to  other_score  total_score  \\\n",
       "0   张宇     汉族    600  2019-04-01  2019-04-10            0          600   \n",
       "1   陈林     汉族    650  2019-05-20  2019-05-31            0          650   \n",
       "2   刘冬     回族    560  2019-05-01  2019-05-02           10          570   \n",
       "\n",
       "  interval  \n",
       "0   9 days  \n",
       "1  11 days  \n",
       "2   1 days  "
      ]
     },
     "execution_count": 23,
     "metadata": {},
     "output_type": "execute_result"
    }
   ],
   "source": [
    "df"
   ]
  },
  {
   "cell_type": "code",
   "execution_count": 25,
   "metadata": {},
   "outputs": [],
   "source": [
    "df['interval'] = df.interval.apply(lambda x:x.days)"
   ]
  },
  {
   "cell_type": "code",
   "execution_count": 26,
   "metadata": {},
   "outputs": [
    {
     "data": {
      "text/html": [
       "<div>\n",
       "<style scoped>\n",
       "    .dataframe tbody tr th:only-of-type {\n",
       "        vertical-align: middle;\n",
       "    }\n",
       "\n",
       "    .dataframe tbody tr th {\n",
       "        vertical-align: top;\n",
       "    }\n",
       "\n",
       "    .dataframe thead th {\n",
       "        text-align: right;\n",
       "    }\n",
       "</style>\n",
       "<table border=\"1\" class=\"dataframe\">\n",
       "  <thead>\n",
       "    <tr style=\"text-align: right;\">\n",
       "      <th></th>\n",
       "      <th>name</th>\n",
       "      <th>nation</th>\n",
       "      <th>score</th>\n",
       "      <th>date_from</th>\n",
       "      <th>date_to</th>\n",
       "      <th>other_score</th>\n",
       "      <th>total_score</th>\n",
       "      <th>interval</th>\n",
       "    </tr>\n",
       "  </thead>\n",
       "  <tbody>\n",
       "    <tr>\n",
       "      <th>0</th>\n",
       "      <td>张宇</td>\n",
       "      <td>汉族</td>\n",
       "      <td>600</td>\n",
       "      <td>2019-04-01</td>\n",
       "      <td>2019-04-10</td>\n",
       "      <td>0</td>\n",
       "      <td>600</td>\n",
       "      <td>9</td>\n",
       "    </tr>\n",
       "    <tr>\n",
       "      <th>1</th>\n",
       "      <td>陈林</td>\n",
       "      <td>汉族</td>\n",
       "      <td>650</td>\n",
       "      <td>2019-05-20</td>\n",
       "      <td>2019-05-31</td>\n",
       "      <td>0</td>\n",
       "      <td>650</td>\n",
       "      <td>11</td>\n",
       "    </tr>\n",
       "    <tr>\n",
       "      <th>2</th>\n",
       "      <td>刘冬</td>\n",
       "      <td>回族</td>\n",
       "      <td>560</td>\n",
       "      <td>2019-05-01</td>\n",
       "      <td>2019-05-02</td>\n",
       "      <td>10</td>\n",
       "      <td>570</td>\n",
       "      <td>1</td>\n",
       "    </tr>\n",
       "  </tbody>\n",
       "</table>\n",
       "</div>"
      ],
      "text/plain": [
       "  name nation  score   date_from     date_to  other_score  total_score  \\\n",
       "0   张宇     汉族    600  2019-04-01  2019-04-10            0          600   \n",
       "1   陈林     汉族    650  2019-05-20  2019-05-31            0          650   \n",
       "2   刘冬     回族    560  2019-05-01  2019-05-02           10          570   \n",
       "\n",
       "   interval  \n",
       "0         9  \n",
       "1        11  \n",
       "2         1  "
      ]
     },
     "execution_count": 26,
     "metadata": {},
     "output_type": "execute_result"
    }
   ],
   "source": [
    "df"
   ]
  },
  {
   "cell_type": "code",
   "execution_count": null,
   "metadata": {},
   "outputs": [],
   "source": []
  },
  {
   "cell_type": "code",
   "execution_count": null,
   "metadata": {},
   "outputs": [],
   "source": []
  },
  {
   "cell_type": "code",
   "execution_count": null,
   "metadata": {},
   "outputs": [],
   "source": []
  },
  {
   "cell_type": "code",
   "execution_count": 113,
   "metadata": {},
   "outputs": [],
   "source": [
    "# score >=600 且 interval<=15 \n",
    "# 打个标签 --> 1,否则为 0\n",
    "\n",
    "# 涉及多列的时候，建议采用自定义函数的方式\n",
    "# 涉及多列的时候，axis = 1"
   ]
  },
  {
   "cell_type": "code",
   "execution_count": 27,
   "metadata": {},
   "outputs": [],
   "source": [
    "def f(x):\n",
    "    if x.score >= 600 and x.interval <=15:\n",
    "        return 1\n",
    "    return 0"
   ]
  },
  {
   "cell_type": "code",
   "execution_count": 30,
   "metadata": {},
   "outputs": [],
   "source": [
    "df['label'] = df.apply(lambda x : f(x),axis=1)"
   ]
  },
  {
   "cell_type": "code",
   "execution_count": 31,
   "metadata": {},
   "outputs": [
    {
     "data": {
      "text/html": [
       "<div>\n",
       "<style scoped>\n",
       "    .dataframe tbody tr th:only-of-type {\n",
       "        vertical-align: middle;\n",
       "    }\n",
       "\n",
       "    .dataframe tbody tr th {\n",
       "        vertical-align: top;\n",
       "    }\n",
       "\n",
       "    .dataframe thead th {\n",
       "        text-align: right;\n",
       "    }\n",
       "</style>\n",
       "<table border=\"1\" class=\"dataframe\">\n",
       "  <thead>\n",
       "    <tr style=\"text-align: right;\">\n",
       "      <th></th>\n",
       "      <th>name</th>\n",
       "      <th>nation</th>\n",
       "      <th>score</th>\n",
       "      <th>date_from</th>\n",
       "      <th>date_to</th>\n",
       "      <th>other_score</th>\n",
       "      <th>total_score</th>\n",
       "      <th>interval</th>\n",
       "      <th>label</th>\n",
       "    </tr>\n",
       "  </thead>\n",
       "  <tbody>\n",
       "    <tr>\n",
       "      <th>0</th>\n",
       "      <td>张宇</td>\n",
       "      <td>汉族</td>\n",
       "      <td>600</td>\n",
       "      <td>2019-04-01</td>\n",
       "      <td>2019-04-10</td>\n",
       "      <td>0</td>\n",
       "      <td>600</td>\n",
       "      <td>9</td>\n",
       "      <td>1</td>\n",
       "    </tr>\n",
       "    <tr>\n",
       "      <th>1</th>\n",
       "      <td>陈林</td>\n",
       "      <td>汉族</td>\n",
       "      <td>650</td>\n",
       "      <td>2019-05-20</td>\n",
       "      <td>2019-05-31</td>\n",
       "      <td>0</td>\n",
       "      <td>650</td>\n",
       "      <td>11</td>\n",
       "      <td>1</td>\n",
       "    </tr>\n",
       "    <tr>\n",
       "      <th>2</th>\n",
       "      <td>刘冬</td>\n",
       "      <td>回族</td>\n",
       "      <td>560</td>\n",
       "      <td>2019-05-01</td>\n",
       "      <td>2019-05-02</td>\n",
       "      <td>10</td>\n",
       "      <td>570</td>\n",
       "      <td>1</td>\n",
       "      <td>0</td>\n",
       "    </tr>\n",
       "  </tbody>\n",
       "</table>\n",
       "</div>"
      ],
      "text/plain": [
       "  name nation  score   date_from     date_to  other_score  total_score  \\\n",
       "0   张宇     汉族    600  2019-04-01  2019-04-10            0          600   \n",
       "1   陈林     汉族    650  2019-05-20  2019-05-31            0          650   \n",
       "2   刘冬     回族    560  2019-05-01  2019-05-02           10          570   \n",
       "\n",
       "   interval  label  \n",
       "0         9      1  \n",
       "1        11      1  \n",
       "2         1      0  "
      ]
     },
     "execution_count": 31,
     "metadata": {},
     "output_type": "execute_result"
    }
   ],
   "source": [
    "df"
   ]
  },
  {
   "cell_type": "code",
   "execution_count": null,
   "metadata": {},
   "outputs": [],
   "source": []
  }
 ],
 "metadata": {
  "kernelspec": {
   "display_name": "Python 3",
   "language": "python",
   "name": "python3"
  },
  "language_info": {
   "codemirror_mode": {
    "name": "ipython",
    "version": 3
   },
   "file_extension": ".py",
   "mimetype": "text/x-python",
   "name": "python",
   "nbconvert_exporter": "python",
   "pygments_lexer": "ipython3",
   "version": "3.7.6"
  }
 },
 "nbformat": 4,
 "nbformat_minor": 4
}
