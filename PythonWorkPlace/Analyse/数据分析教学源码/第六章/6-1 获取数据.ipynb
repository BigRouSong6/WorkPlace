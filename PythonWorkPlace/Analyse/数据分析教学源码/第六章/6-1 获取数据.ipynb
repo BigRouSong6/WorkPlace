{
 "cells": [
  {
   "cell_type": "code",
   "execution_count": 2,
   "metadata": {},
   "outputs": [],
   "source": [
    "# pip install pandas-datareader -i https://pypi.tuna.tsinghua.edu.cn/simple"
   ]
  },
  {
   "cell_type": "code",
   "execution_count": null,
   "metadata": {},
   "outputs": [],
   "source": []
  },
  {
   "cell_type": "code",
   "execution_count": 2,
   "metadata": {},
   "outputs": [],
   "source": [
    "from datetime import datetime\n",
    "import pandas_datareader as pdr"
   ]
  },
  {
   "cell_type": "code",
   "execution_count": null,
   "metadata": {},
   "outputs": [],
   "source": []
  },
  {
   "cell_type": "code",
   "execution_count": null,
   "metadata": {},
   "outputs": [],
   "source": [
    "# 蔚来   上市日期：2018-09-12\n",
    "# 特斯拉 上市日期：2010-06-29"
   ]
  },
  {
   "cell_type": "code",
   "execution_count": null,
   "metadata": {},
   "outputs": [],
   "source": []
  },
  {
   "cell_type": "code",
   "execution_count": null,
   "metadata": {},
   "outputs": [],
   "source": [
    "# 确定股票起始日期\n",
    "# pdr.get_data_yahoo"
   ]
  },
  {
   "cell_type": "code",
   "execution_count": null,
   "metadata": {},
   "outputs": [],
   "source": [
    "# 股票代码: https://finance.yahoo.com/most-active?offset=0&count=100"
   ]
  },
  {
   "cell_type": "code",
   "execution_count": 14,
   "metadata": {},
   "outputs": [],
   "source": [
    "start = datetime(2019,1,1)"
   ]
  },
  {
   "cell_type": "code",
   "execution_count": 8,
   "metadata": {},
   "outputs": [],
   "source": [
    "nio = pdr.get_data_yahoo('NIO',start=start,end=end)"
   ]
  },
  {
   "cell_type": "code",
   "execution_count": 9,
   "metadata": {},
   "outputs": [],
   "source": [
    "tesla = pdr.get_data_yahoo('TSLA',start=start,end=end)"
   ]
  },
  {
   "cell_type": "code",
   "execution_count": null,
   "metadata": {},
   "outputs": [],
   "source": []
  },
  {
   "cell_type": "code",
   "execution_count": null,
   "metadata": {},
   "outputs": [],
   "source": []
  },
  {
   "cell_type": "code",
   "execution_count": null,
   "metadata": {},
   "outputs": [],
   "source": []
  },
  {
   "cell_type": "code",
   "execution_count": 56,
   "metadata": {},
   "outputs": [
    {
     "data": {
      "text/plain": [
       "(387, 6)"
      ]
     },
     "execution_count": 56,
     "metadata": {},
     "output_type": "execute_result"
    }
   ],
   "source": [
    "nio.shape"
   ]
  },
  {
   "cell_type": "code",
   "execution_count": 52,
   "metadata": {},
   "outputs": [],
   "source": [
    "# 数据描述\n",
    "# describe"
   ]
  },
  {
   "cell_type": "code",
   "execution_count": 55,
   "metadata": {},
   "outputs": [
    {
     "data": {
      "text/html": [
       "<div>\n",
       "<style scoped>\n",
       "    .dataframe tbody tr th:only-of-type {\n",
       "        vertical-align: middle;\n",
       "    }\n",
       "\n",
       "    .dataframe tbody tr th {\n",
       "        vertical-align: top;\n",
       "    }\n",
       "\n",
       "    .dataframe thead th {\n",
       "        text-align: right;\n",
       "    }\n",
       "</style>\n",
       "<table border=\"1\" class=\"dataframe\">\n",
       "  <thead>\n",
       "    <tr style=\"text-align: right;\">\n",
       "      <th></th>\n",
       "      <th>High</th>\n",
       "      <th>Low</th>\n",
       "      <th>Open</th>\n",
       "      <th>Close</th>\n",
       "      <th>Volume</th>\n",
       "      <th>Adj Close</th>\n",
       "    </tr>\n",
       "  </thead>\n",
       "  <tbody>\n",
       "    <tr>\n",
       "      <th>count</th>\n",
       "      <td>387.000000</td>\n",
       "      <td>387.000000</td>\n",
       "      <td>387.000000</td>\n",
       "      <td>387.000000</td>\n",
       "      <td>3.870000e+02</td>\n",
       "      <td>387.000000</td>\n",
       "    </tr>\n",
       "    <tr>\n",
       "      <th>mean</th>\n",
       "      <td>4.392842</td>\n",
       "      <td>4.063411</td>\n",
       "      <td>4.233773</td>\n",
       "      <td>4.227985</td>\n",
       "      <td>4.939513e+07</td>\n",
       "      <td>4.227985</td>\n",
       "    </tr>\n",
       "    <tr>\n",
       "      <th>std</th>\n",
       "      <td>2.376041</td>\n",
       "      <td>2.135563</td>\n",
       "      <td>2.252676</td>\n",
       "      <td>2.264047</td>\n",
       "      <td>6.035406e+07</td>\n",
       "      <td>2.264047</td>\n",
       "    </tr>\n",
       "    <tr>\n",
       "      <th>min</th>\n",
       "      <td>1.450000</td>\n",
       "      <td>1.190000</td>\n",
       "      <td>1.190000</td>\n",
       "      <td>1.320000</td>\n",
       "      <td>5.111000e+06</td>\n",
       "      <td>1.320000</td>\n",
       "    </tr>\n",
       "    <tr>\n",
       "      <th>25%</th>\n",
       "      <td>2.845000</td>\n",
       "      <td>2.635000</td>\n",
       "      <td>2.810000</td>\n",
       "      <td>2.740000</td>\n",
       "      <td>2.001625e+07</td>\n",
       "      <td>2.740000</td>\n",
       "    </tr>\n",
       "    <tr>\n",
       "      <th>50%</th>\n",
       "      <td>3.680000</td>\n",
       "      <td>3.400000</td>\n",
       "      <td>3.550000</td>\n",
       "      <td>3.510000</td>\n",
       "      <td>3.267550e+07</td>\n",
       "      <td>3.510000</td>\n",
       "    </tr>\n",
       "    <tr>\n",
       "      <th>75%</th>\n",
       "      <td>5.205000</td>\n",
       "      <td>4.960000</td>\n",
       "      <td>5.060000</td>\n",
       "      <td>5.035000</td>\n",
       "      <td>5.524965e+07</td>\n",
       "      <td>5.035000</td>\n",
       "    </tr>\n",
       "    <tr>\n",
       "      <th>max</th>\n",
       "      <td>16.440001</td>\n",
       "      <td>14.200000</td>\n",
       "      <td>15.610000</td>\n",
       "      <td>14.980000</td>\n",
       "      <td>5.709114e+08</td>\n",
       "      <td>14.980000</td>\n",
       "    </tr>\n",
       "  </tbody>\n",
       "</table>\n",
       "</div>"
      ],
      "text/plain": [
       "             High         Low        Open       Close        Volume  \\\n",
       "count  387.000000  387.000000  387.000000  387.000000  3.870000e+02   \n",
       "mean     4.392842    4.063411    4.233773    4.227985  4.939513e+07   \n",
       "std      2.376041    2.135563    2.252676    2.264047  6.035406e+07   \n",
       "min      1.450000    1.190000    1.190000    1.320000  5.111000e+06   \n",
       "25%      2.845000    2.635000    2.810000    2.740000  2.001625e+07   \n",
       "50%      3.680000    3.400000    3.550000    3.510000  3.267550e+07   \n",
       "75%      5.205000    4.960000    5.060000    5.035000  5.524965e+07   \n",
       "max     16.440001   14.200000   15.610000   14.980000  5.709114e+08   \n",
       "\n",
       "        Adj Close  \n",
       "count  387.000000  \n",
       "mean     4.227985  \n",
       "std      2.264047  \n",
       "min      1.320000  \n",
       "25%      2.740000  \n",
       "50%      3.510000  \n",
       "75%      5.035000  \n",
       "max     14.980000  "
      ]
     },
     "execution_count": 55,
     "metadata": {},
     "output_type": "execute_result"
    }
   ],
   "source": [
    "nio.describe()"
   ]
  },
  {
   "cell_type": "code",
   "execution_count": 58,
   "metadata": {},
   "outputs": [
    {
     "data": {
      "text/html": [
       "<div>\n",
       "<style scoped>\n",
       "    .dataframe tbody tr th:only-of-type {\n",
       "        vertical-align: middle;\n",
       "    }\n",
       "\n",
       "    .dataframe tbody tr th {\n",
       "        vertical-align: top;\n",
       "    }\n",
       "\n",
       "    .dataframe thead th {\n",
       "        text-align: right;\n",
       "    }\n",
       "</style>\n",
       "<table border=\"1\" class=\"dataframe\">\n",
       "  <thead>\n",
       "    <tr style=\"text-align: right;\">\n",
       "      <th></th>\n",
       "      <th>High</th>\n",
       "      <th>Low</th>\n",
       "      <th>Open</th>\n",
       "      <th>Close</th>\n",
       "      <th>Volume</th>\n",
       "      <th>Adj Close</th>\n",
       "    </tr>\n",
       "  </thead>\n",
       "  <tbody>\n",
       "    <tr>\n",
       "      <th>count</th>\n",
       "      <td>387.000000</td>\n",
       "      <td>387.000000</td>\n",
       "      <td>387.000000</td>\n",
       "      <td>387.000000</td>\n",
       "      <td>3.870000e+02</td>\n",
       "      <td>387.000000</td>\n",
       "    </tr>\n",
       "    <tr>\n",
       "      <th>mean</th>\n",
       "      <td>453.525685</td>\n",
       "      <td>430.705995</td>\n",
       "      <td>442.024135</td>\n",
       "      <td>442.755505</td>\n",
       "      <td>1.217490e+07</td>\n",
       "      <td>442.755505</td>\n",
       "    </tr>\n",
       "    <tr>\n",
       "      <th>std</th>\n",
       "      <td>285.408959</td>\n",
       "      <td>263.461217</td>\n",
       "      <td>274.782212</td>\n",
       "      <td>274.868067</td>\n",
       "      <td>7.523060e+06</td>\n",
       "      <td>274.868067</td>\n",
       "    </tr>\n",
       "    <tr>\n",
       "      <th>min</th>\n",
       "      <td>186.679993</td>\n",
       "      <td>176.990005</td>\n",
       "      <td>181.100006</td>\n",
       "      <td>178.970001</td>\n",
       "      <td>2.465600e+06</td>\n",
       "      <td>178.970001</td>\n",
       "    </tr>\n",
       "    <tr>\n",
       "      <th>25%</th>\n",
       "      <td>247.364998</td>\n",
       "      <td>240.040001</td>\n",
       "      <td>244.430000</td>\n",
       "      <td>244.610001</td>\n",
       "      <td>6.872900e+06</td>\n",
       "      <td>244.610001</td>\n",
       "    </tr>\n",
       "    <tr>\n",
       "      <th>50%</th>\n",
       "      <td>318.600006</td>\n",
       "      <td>309.260010</td>\n",
       "      <td>313.000000</td>\n",
       "      <td>314.739990</td>\n",
       "      <td>1.003860e+07</td>\n",
       "      <td>314.739990</td>\n",
       "    </tr>\n",
       "    <tr>\n",
       "      <th>75%</th>\n",
       "      <td>592.149994</td>\n",
       "      <td>557.595001</td>\n",
       "      <td>573.790009</td>\n",
       "      <td>570.880005</td>\n",
       "      <td>1.564405e+07</td>\n",
       "      <td>570.880005</td>\n",
       "    </tr>\n",
       "    <tr>\n",
       "      <th>max</th>\n",
       "      <td>1794.989990</td>\n",
       "      <td>1471.109985</td>\n",
       "      <td>1659.000000</td>\n",
       "      <td>1544.650024</td>\n",
       "      <td>6.093880e+07</td>\n",
       "      <td>1544.650024</td>\n",
       "    </tr>\n",
       "  </tbody>\n",
       "</table>\n",
       "</div>"
      ],
      "text/plain": [
       "              High          Low         Open        Close        Volume  \\\n",
       "count   387.000000   387.000000   387.000000   387.000000  3.870000e+02   \n",
       "mean    453.525685   430.705995   442.024135   442.755505  1.217490e+07   \n",
       "std     285.408959   263.461217   274.782212   274.868067  7.523060e+06   \n",
       "min     186.679993   176.990005   181.100006   178.970001  2.465600e+06   \n",
       "25%     247.364998   240.040001   244.430000   244.610001  6.872900e+06   \n",
       "50%     318.600006   309.260010   313.000000   314.739990  1.003860e+07   \n",
       "75%     592.149994   557.595001   573.790009   570.880005  1.564405e+07   \n",
       "max    1794.989990  1471.109985  1659.000000  1544.650024  6.093880e+07   \n",
       "\n",
       "         Adj Close  \n",
       "count   387.000000  \n",
       "mean    442.755505  \n",
       "std     274.868067  \n",
       "min     178.970001  \n",
       "25%     244.610001  \n",
       "50%     314.739990  \n",
       "75%     570.880005  \n",
       "max    1544.650024  "
      ]
     },
     "execution_count": 58,
     "metadata": {},
     "output_type": "execute_result"
    }
   ],
   "source": [
    "tesla.describe()"
   ]
  },
  {
   "cell_type": "code",
   "execution_count": null,
   "metadata": {},
   "outputs": [],
   "source": []
  }
 ],
 "metadata": {
  "kernelspec": {
   "display_name": "Python 3",
   "language": "python",
   "name": "python3"
  },
  "language_info": {
   "codemirror_mode": {
    "name": "ipython",
    "version": 3
   },
   "file_extension": ".py",
   "mimetype": "text/x-python",
   "name": "python",
   "nbconvert_exporter": "python",
   "pygments_lexer": "ipython3",
   "version": "3.7.6"
  }
 },
 "nbformat": 4,
 "nbformat_minor": 2
}
